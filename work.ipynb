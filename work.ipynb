{
 "cells": [
  {
   "cell_type": "code",
   "execution_count": 51,
   "metadata": {},
   "outputs": [],
   "source": [
    "import pandas as pd\n",
    "import numpy as np"
   ]
  },
  {
   "cell_type": "code",
   "execution_count": 52,
   "metadata": {},
   "outputs": [],
   "source": [
    "df=pd.read_csv('Fytlyff_DS_Interview.csv')"
   ]
  },
  {
   "cell_type": "code",
   "execution_count": 53,
   "metadata": {},
   "outputs": [
    {
     "data": {
      "text/html": [
       "<div>\n",
       "<style scoped>\n",
       "    .dataframe tbody tr th:only-of-type {\n",
       "        vertical-align: middle;\n",
       "    }\n",
       "\n",
       "    .dataframe tbody tr th {\n",
       "        vertical-align: top;\n",
       "    }\n",
       "\n",
       "    .dataframe thead th {\n",
       "        text-align: right;\n",
       "    }\n",
       "</style>\n",
       "<table border=\"1\" class=\"dataframe\">\n",
       "  <thead>\n",
       "    <tr style=\"text-align: right;\">\n",
       "      <th></th>\n",
       "      <th>Year</th>\n",
       "      <th>Month</th>\n",
       "      <th>MobileWeb_or_Web</th>\n",
       "      <th>Type_of_Customers?</th>\n",
       "      <th>Where_Are_They_comming_from?</th>\n",
       "      <th>Which_Place_in_India?</th>\n",
       "      <th>How_many_Landed_on_our_Page?</th>\n",
       "      <th>How_many_Landed_on_the_our_Page_and_clicked_on_a_button?</th>\n",
       "      <th>How_many_Landed_on_the_our_Page_and_clicked_on_a_button_and_started_filling_the_Form?</th>\n",
       "      <th>How_many_Landed_on_the_our_Page_and_clicked_on_a_button_and_started_filling_the_Form_and_Completed_and_submited_the_form?</th>\n",
       "    </tr>\n",
       "  </thead>\n",
       "  <tbody>\n",
       "    <tr>\n",
       "      <th>0</th>\n",
       "      <td>2019</td>\n",
       "      <td>Jan</td>\n",
       "      <td>Desktop_Website</td>\n",
       "      <td>Existing_Customer</td>\n",
       "      <td>Came_From_Google</td>\n",
       "      <td>Bangalore</td>\n",
       "      <td>NaN</td>\n",
       "      <td>NaN</td>\n",
       "      <td>56892</td>\n",
       "      <td>17178</td>\n",
       "    </tr>\n",
       "    <tr>\n",
       "      <th>1</th>\n",
       "      <td>2019</td>\n",
       "      <td>Jan</td>\n",
       "      <td>Desktop_Website</td>\n",
       "      <td>Existing_Customer</td>\n",
       "      <td>Came_From_Google</td>\n",
       "      <td>Chennai</td>\n",
       "      <td>NaN</td>\n",
       "      <td>NaN</td>\n",
       "      <td>41460</td>\n",
       "      <td>11916</td>\n",
       "    </tr>\n",
       "    <tr>\n",
       "      <th>2</th>\n",
       "      <td>2019</td>\n",
       "      <td>Jan</td>\n",
       "      <td>Desktop_Website</td>\n",
       "      <td>Existing_Customer</td>\n",
       "      <td>Came_From_Google</td>\n",
       "      <td>Dehradun</td>\n",
       "      <td>NaN</td>\n",
       "      <td>NaN</td>\n",
       "      <td>55561</td>\n",
       "      <td>19461</td>\n",
       "    </tr>\n",
       "    <tr>\n",
       "      <th>3</th>\n",
       "      <td>2019</td>\n",
       "      <td>Jan</td>\n",
       "      <td>Desktop_Website</td>\n",
       "      <td>Existing_Customer</td>\n",
       "      <td>Came_From_Google</td>\n",
       "      <td>Indore</td>\n",
       "      <td>NaN</td>\n",
       "      <td>NaN</td>\n",
       "      <td>320923</td>\n",
       "      <td>110667</td>\n",
       "    </tr>\n",
       "    <tr>\n",
       "      <th>4</th>\n",
       "      <td>2019</td>\n",
       "      <td>Jan</td>\n",
       "      <td>Desktop_Website</td>\n",
       "      <td>Existing_Customer</td>\n",
       "      <td>Came_From_Google</td>\n",
       "      <td>Pune</td>\n",
       "      <td>NaN</td>\n",
       "      <td>NaN</td>\n",
       "      <td>220937</td>\n",
       "      <td>46033</td>\n",
       "    </tr>\n",
       "  </tbody>\n",
       "</table>\n",
       "</div>"
      ],
      "text/plain": [
       "   Year Month MobileWeb_or_Web Type_of_Customers?  \\\n",
       "0  2019   Jan  Desktop_Website  Existing_Customer   \n",
       "1  2019   Jan  Desktop_Website  Existing_Customer   \n",
       "2  2019   Jan  Desktop_Website  Existing_Customer   \n",
       "3  2019   Jan  Desktop_Website  Existing_Customer   \n",
       "4  2019   Jan  Desktop_Website  Existing_Customer   \n",
       "\n",
       "  Where_Are_They_comming_from? Which_Place_in_India?  \\\n",
       "0             Came_From_Google             Bangalore   \n",
       "1             Came_From_Google               Chennai   \n",
       "2             Came_From_Google              Dehradun   \n",
       "3             Came_From_Google                Indore   \n",
       "4             Came_From_Google                  Pune   \n",
       "\n",
       "   How_many_Landed_on_our_Page?  \\\n",
       "0                           NaN   \n",
       "1                           NaN   \n",
       "2                           NaN   \n",
       "3                           NaN   \n",
       "4                           NaN   \n",
       "\n",
       "   How_many_Landed_on_the_our_Page_and_clicked_on_a_button?  \\\n",
       "0                                                NaN          \n",
       "1                                                NaN          \n",
       "2                                                NaN          \n",
       "3                                                NaN          \n",
       "4                                                NaN          \n",
       "\n",
       "   How_many_Landed_on_the_our_Page_and_clicked_on_a_button_and_started_filling_the_Form?  \\\n",
       "0                                              56892                                       \n",
       "1                                              41460                                       \n",
       "2                                              55561                                       \n",
       "3                                             320923                                       \n",
       "4                                             220937                                       \n",
       "\n",
       "   How_many_Landed_on_the_our_Page_and_clicked_on_a_button_and_started_filling_the_Form_and_Completed_and_submited_the_form?  \n",
       "0                                              17178                                                                          \n",
       "1                                              11916                                                                          \n",
       "2                                              19461                                                                          \n",
       "3                                             110667                                                                          \n",
       "4                                              46033                                                                          "
      ]
     },
     "execution_count": 53,
     "metadata": {},
     "output_type": "execute_result"
    }
   ],
   "source": [
    "df.head()"
   ]
  },
  {
   "cell_type": "code",
   "execution_count": 54,
   "metadata": {},
   "outputs": [
    {
     "data": {
      "text/plain": [
       "Year                                                                                                                           int64\n",
       "Month                                                                                                                         object\n",
       "MobileWeb_or_Web                                                                                                              object\n",
       "Type_of_Customers?                                                                                                            object\n",
       "Where_Are_They_comming_from?                                                                                                  object\n",
       "Which_Place_in_India?                                                                                                         object\n",
       "How_many_Landed_on_our_Page?                                                                                                 float64\n",
       "How_many_Landed_on_the_our_Page_and_clicked_on_a_button?                                                                     float64\n",
       "How_many_Landed_on_the_our_Page_and_clicked_on_a_button_and_started_filling_the_Form?                                          int64\n",
       "How_many_Landed_on_the_our_Page_and_clicked_on_a_button_and_started_filling_the_Form_and_Completed_and_submited_the_form?      int64\n",
       "dtype: object"
      ]
     },
     "execution_count": 54,
     "metadata": {},
     "output_type": "execute_result"
    }
   ],
   "source": [
    "df.dtypes"
   ]
  },
  {
   "cell_type": "code",
   "execution_count": 55,
   "metadata": {},
   "outputs": [
    {
     "data": {
      "text/html": [
       "<div>\n",
       "<style scoped>\n",
       "    .dataframe tbody tr th:only-of-type {\n",
       "        vertical-align: middle;\n",
       "    }\n",
       "\n",
       "    .dataframe tbody tr th {\n",
       "        vertical-align: top;\n",
       "    }\n",
       "\n",
       "    .dataframe thead th {\n",
       "        text-align: right;\n",
       "    }\n",
       "</style>\n",
       "<table border=\"1\" class=\"dataframe\">\n",
       "  <thead>\n",
       "    <tr style=\"text-align: right;\">\n",
       "      <th></th>\n",
       "      <th>Year</th>\n",
       "      <th>How_many_Landed_on_our_Page?</th>\n",
       "      <th>How_many_Landed_on_the_our_Page_and_clicked_on_a_button?</th>\n",
       "      <th>How_many_Landed_on_the_our_Page_and_clicked_on_a_button_and_started_filling_the_Form?</th>\n",
       "      <th>How_many_Landed_on_the_our_Page_and_clicked_on_a_button_and_started_filling_the_Form_and_Completed_and_submited_the_form?</th>\n",
       "    </tr>\n",
       "  </thead>\n",
       "  <tbody>\n",
       "    <tr>\n",
       "      <th>count</th>\n",
       "      <td>2160.000000</td>\n",
       "      <td>1.080000e+03</td>\n",
       "      <td>1.080000e+03</td>\n",
       "      <td>2.160000e+03</td>\n",
       "      <td>2.160000e+03</td>\n",
       "    </tr>\n",
       "    <tr>\n",
       "      <th>mean</th>\n",
       "      <td>2020.000000</td>\n",
       "      <td>7.844949e+05</td>\n",
       "      <td>3.584563e+05</td>\n",
       "      <td>1.510725e+05</td>\n",
       "      <td>5.922129e+04</td>\n",
       "    </tr>\n",
       "    <tr>\n",
       "      <th>std</th>\n",
       "      <td>0.816686</td>\n",
       "      <td>1.232518e+06</td>\n",
       "      <td>4.981331e+05</td>\n",
       "      <td>2.353538e+05</td>\n",
       "      <td>8.646564e+04</td>\n",
       "    </tr>\n",
       "    <tr>\n",
       "      <th>min</th>\n",
       "      <td>2019.000000</td>\n",
       "      <td>2.456700e+04</td>\n",
       "      <td>8.425000e+03</td>\n",
       "      <td>3.761000e+03</td>\n",
       "      <td>7.660000e+02</td>\n",
       "    </tr>\n",
       "    <tr>\n",
       "      <th>25%</th>\n",
       "      <td>2019.000000</td>\n",
       "      <td>1.406165e+05</td>\n",
       "      <td>8.060375e+04</td>\n",
       "      <td>3.360800e+04</td>\n",
       "      <td>1.157725e+04</td>\n",
       "    </tr>\n",
       "    <tr>\n",
       "      <th>50%</th>\n",
       "      <td>2020.000000</td>\n",
       "      <td>3.818205e+05</td>\n",
       "      <td>1.731775e+05</td>\n",
       "      <td>7.064950e+04</td>\n",
       "      <td>2.700450e+04</td>\n",
       "    </tr>\n",
       "    <tr>\n",
       "      <th>75%</th>\n",
       "      <td>2021.000000</td>\n",
       "      <td>8.196922e+05</td>\n",
       "      <td>3.948560e+05</td>\n",
       "      <td>1.659590e+05</td>\n",
       "      <td>7.185350e+04</td>\n",
       "    </tr>\n",
       "    <tr>\n",
       "      <th>max</th>\n",
       "      <td>2021.000000</td>\n",
       "      <td>1.127413e+07</td>\n",
       "      <td>4.079301e+06</td>\n",
       "      <td>3.022858e+06</td>\n",
       "      <td>1.251258e+06</td>\n",
       "    </tr>\n",
       "  </tbody>\n",
       "</table>\n",
       "</div>"
      ],
      "text/plain": [
       "              Year  How_many_Landed_on_our_Page?  \\\n",
       "count  2160.000000                  1.080000e+03   \n",
       "mean   2020.000000                  7.844949e+05   \n",
       "std       0.816686                  1.232518e+06   \n",
       "min    2019.000000                  2.456700e+04   \n",
       "25%    2019.000000                  1.406165e+05   \n",
       "50%    2020.000000                  3.818205e+05   \n",
       "75%    2021.000000                  8.196922e+05   \n",
       "max    2021.000000                  1.127413e+07   \n",
       "\n",
       "       How_many_Landed_on_the_our_Page_and_clicked_on_a_button?  \\\n",
       "count                                       1.080000e+03          \n",
       "mean                                        3.584563e+05          \n",
       "std                                         4.981331e+05          \n",
       "min                                         8.425000e+03          \n",
       "25%                                         8.060375e+04          \n",
       "50%                                         1.731775e+05          \n",
       "75%                                         3.948560e+05          \n",
       "max                                         4.079301e+06          \n",
       "\n",
       "       How_many_Landed_on_the_our_Page_and_clicked_on_a_button_and_started_filling_the_Form?  \\\n",
       "count                                       2.160000e+03                                       \n",
       "mean                                        1.510725e+05                                       \n",
       "std                                         2.353538e+05                                       \n",
       "min                                         3.761000e+03                                       \n",
       "25%                                         3.360800e+04                                       \n",
       "50%                                         7.064950e+04                                       \n",
       "75%                                         1.659590e+05                                       \n",
       "max                                         3.022858e+06                                       \n",
       "\n",
       "       How_many_Landed_on_the_our_Page_and_clicked_on_a_button_and_started_filling_the_Form_and_Completed_and_submited_the_form?  \n",
       "count                                       2.160000e+03                                                                          \n",
       "mean                                        5.922129e+04                                                                          \n",
       "std                                         8.646564e+04                                                                          \n",
       "min                                         7.660000e+02                                                                          \n",
       "25%                                         1.157725e+04                                                                          \n",
       "50%                                         2.700450e+04                                                                          \n",
       "75%                                         7.185350e+04                                                                          \n",
       "max                                         1.251258e+06                                                                          "
      ]
     },
     "execution_count": 55,
     "metadata": {},
     "output_type": "execute_result"
    }
   ],
   "source": [
    "df.describe()"
   ]
  },
  {
   "cell_type": "code",
   "execution_count": 56,
   "metadata": {},
   "outputs": [],
   "source": [
    "numerical_data=[features for features in df.columns if df[features].dtype!='O']"
   ]
  },
  {
   "cell_type": "code",
   "execution_count": 57,
   "metadata": {},
   "outputs": [
    {
     "data": {
      "text/plain": [
       "Year                                                                                                                           int64\n",
       "Month                                                                                                                         object\n",
       "MobileWeb_or_Web                                                                                                              object\n",
       "Type_of_Customers?                                                                                                            object\n",
       "Where_Are_They_comming_from?                                                                                                  object\n",
       "Which_Place_in_India?                                                                                                         object\n",
       "How_many_Landed_on_our_Page?                                                                                                 float64\n",
       "How_many_Landed_on_the_our_Page_and_clicked_on_a_button?                                                                     float64\n",
       "How_many_Landed_on_the_our_Page_and_clicked_on_a_button_and_started_filling_the_Form?                                          int64\n",
       "How_many_Landed_on_the_our_Page_and_clicked_on_a_button_and_started_filling_the_Form_and_Completed_and_submited_the_form?      int64\n",
       "dtype: object"
      ]
     },
     "execution_count": 57,
     "metadata": {},
     "output_type": "execute_result"
    }
   ],
   "source": [
    "df.dtypes"
   ]
  },
  {
   "cell_type": "code",
   "execution_count": 58,
   "metadata": {},
   "outputs": [
    {
     "data": {
      "text/plain": [
       "['Year',\n",
       " 'How_many_Landed_on_our_Page?',\n",
       " 'How_many_Landed_on_the_our_Page_and_clicked_on_a_button?',\n",
       " 'How_many_Landed_on_the_our_Page_and_clicked_on_a_button_and_started_filling_the_Form?',\n",
       " 'How_many_Landed_on_the_our_Page_and_clicked_on_a_button_and_started_filling_the_Form_and_Completed_and_submited_the_form?']"
      ]
     },
     "execution_count": 58,
     "metadata": {},
     "output_type": "execute_result"
    }
   ],
   "source": [
    "numerical_data"
   ]
  },
  {
   "cell_type": "code",
   "execution_count": 59,
   "metadata": {},
   "outputs": [],
   "source": [
    "numerical=(df[numerical_data])"
   ]
  },
  {
   "cell_type": "code",
   "execution_count": 60,
   "metadata": {},
   "outputs": [
    {
     "data": {
      "text/html": [
       "<div>\n",
       "<style scoped>\n",
       "    .dataframe tbody tr th:only-of-type {\n",
       "        vertical-align: middle;\n",
       "    }\n",
       "\n",
       "    .dataframe tbody tr th {\n",
       "        vertical-align: top;\n",
       "    }\n",
       "\n",
       "    .dataframe thead th {\n",
       "        text-align: right;\n",
       "    }\n",
       "</style>\n",
       "<table border=\"1\" class=\"dataframe\">\n",
       "  <thead>\n",
       "    <tr style=\"text-align: right;\">\n",
       "      <th></th>\n",
       "      <th>Year</th>\n",
       "      <th>How_many_Landed_on_our_Page?</th>\n",
       "      <th>How_many_Landed_on_the_our_Page_and_clicked_on_a_button?</th>\n",
       "      <th>How_many_Landed_on_the_our_Page_and_clicked_on_a_button_and_started_filling_the_Form?</th>\n",
       "      <th>How_many_Landed_on_the_our_Page_and_clicked_on_a_button_and_started_filling_the_Form_and_Completed_and_submited_the_form?</th>\n",
       "    </tr>\n",
       "  </thead>\n",
       "  <tbody>\n",
       "    <tr>\n",
       "      <th>0</th>\n",
       "      <td>2019</td>\n",
       "      <td>NaN</td>\n",
       "      <td>NaN</td>\n",
       "      <td>56892</td>\n",
       "      <td>17178</td>\n",
       "    </tr>\n",
       "    <tr>\n",
       "      <th>1</th>\n",
       "      <td>2019</td>\n",
       "      <td>NaN</td>\n",
       "      <td>NaN</td>\n",
       "      <td>41460</td>\n",
       "      <td>11916</td>\n",
       "    </tr>\n",
       "    <tr>\n",
       "      <th>2</th>\n",
       "      <td>2019</td>\n",
       "      <td>NaN</td>\n",
       "      <td>NaN</td>\n",
       "      <td>55561</td>\n",
       "      <td>19461</td>\n",
       "    </tr>\n",
       "    <tr>\n",
       "      <th>3</th>\n",
       "      <td>2019</td>\n",
       "      <td>NaN</td>\n",
       "      <td>NaN</td>\n",
       "      <td>320923</td>\n",
       "      <td>110667</td>\n",
       "    </tr>\n",
       "    <tr>\n",
       "      <th>4</th>\n",
       "      <td>2019</td>\n",
       "      <td>NaN</td>\n",
       "      <td>NaN</td>\n",
       "      <td>220937</td>\n",
       "      <td>46033</td>\n",
       "    </tr>\n",
       "  </tbody>\n",
       "</table>\n",
       "</div>"
      ],
      "text/plain": [
       "   Year  How_many_Landed_on_our_Page?  \\\n",
       "0  2019                           NaN   \n",
       "1  2019                           NaN   \n",
       "2  2019                           NaN   \n",
       "3  2019                           NaN   \n",
       "4  2019                           NaN   \n",
       "\n",
       "   How_many_Landed_on_the_our_Page_and_clicked_on_a_button?  \\\n",
       "0                                                NaN          \n",
       "1                                                NaN          \n",
       "2                                                NaN          \n",
       "3                                                NaN          \n",
       "4                                                NaN          \n",
       "\n",
       "   How_many_Landed_on_the_our_Page_and_clicked_on_a_button_and_started_filling_the_Form?  \\\n",
       "0                                              56892                                       \n",
       "1                                              41460                                       \n",
       "2                                              55561                                       \n",
       "3                                             320923                                       \n",
       "4                                             220937                                       \n",
       "\n",
       "   How_many_Landed_on_the_our_Page_and_clicked_on_a_button_and_started_filling_the_Form_and_Completed_and_submited_the_form?  \n",
       "0                                              17178                                                                          \n",
       "1                                              11916                                                                          \n",
       "2                                              19461                                                                          \n",
       "3                                             110667                                                                          \n",
       "4                                              46033                                                                          "
      ]
     },
     "execution_count": 60,
     "metadata": {},
     "output_type": "execute_result"
    }
   ],
   "source": [
    "numerical.head()"
   ]
  },
  {
   "cell_type": "code",
   "execution_count": 69,
   "metadata": {},
   "outputs": [],
   "source": [
    "from statistics import stdev"
   ]
  },
  {
   "cell_type": "code",
   "execution_count": 74,
   "metadata": {},
   "outputs": [],
   "source": [
    "from tkinter import Menu\n",
    "\n",
    "\n",
    "mean_val=[]\n",
    "median_val=[]\n",
    "quan_val=[]\n",
    "stan_val=[]\n",
    "def descriptive_stats(numerical):\n",
    "    for feature in numerical.columns:\n",
    "        mean_val.append(numerical[feature].mean())\n",
    "        median_val.append(numerical[feature].median())\n",
    "        quan_val.append(numerical[feature].quantile())\n",
    "        stan_val.append(numerical[feature].std())\n",
    "    return mean_val,median_val,quan_val,stan_val"
   ]
  },
  {
   "cell_type": "code",
   "execution_count": 75,
   "metadata": {},
   "outputs": [],
   "source": [
    "temp=descriptive_stats(numerical)"
   ]
  },
  {
   "cell_type": "code",
   "execution_count": 76,
   "metadata": {},
   "outputs": [],
   "source": [
    "res_stats=pd.DataFrame()"
   ]
  },
  {
   "cell_type": "code",
   "execution_count": 77,
   "metadata": {},
   "outputs": [],
   "source": [
    "res_stats['Attributes']=numerical_data"
   ]
  },
  {
   "cell_type": "code",
   "execution_count": 79,
   "metadata": {},
   "outputs": [],
   "source": [
    "res_stats['Mean']=temp[0]\n",
    "res_stats['Median']=temp[1]\n",
    "res_stats['quantile']=temp[2]\n",
    "res_stats['standard deviatation']=temp[3]\n"
   ]
  },
  {
   "cell_type": "code",
   "execution_count": 80,
   "metadata": {},
   "outputs": [
    {
     "data": {
      "text/html": [
       "<div>\n",
       "<style scoped>\n",
       "    .dataframe tbody tr th:only-of-type {\n",
       "        vertical-align: middle;\n",
       "    }\n",
       "\n",
       "    .dataframe tbody tr th {\n",
       "        vertical-align: top;\n",
       "    }\n",
       "\n",
       "    .dataframe thead th {\n",
       "        text-align: right;\n",
       "    }\n",
       "</style>\n",
       "<table border=\"1\" class=\"dataframe\">\n",
       "  <thead>\n",
       "    <tr style=\"text-align: right;\">\n",
       "      <th></th>\n",
       "      <th>Attributes</th>\n",
       "      <th>Mean</th>\n",
       "      <th>Median</th>\n",
       "      <th>quantile</th>\n",
       "      <th>standard deviatation</th>\n",
       "    </tr>\n",
       "  </thead>\n",
       "  <tbody>\n",
       "    <tr>\n",
       "      <th>0</th>\n",
       "      <td>Year</td>\n",
       "      <td>2020.000000</td>\n",
       "      <td>2020.0</td>\n",
       "      <td>2020.0</td>\n",
       "      <td>8.166857e-01</td>\n",
       "    </tr>\n",
       "    <tr>\n",
       "      <th>1</th>\n",
       "      <td>How_many_Landed_on_our_Page?</td>\n",
       "      <td>784494.885185</td>\n",
       "      <td>381820.5</td>\n",
       "      <td>381820.5</td>\n",
       "      <td>1.232518e+06</td>\n",
       "    </tr>\n",
       "    <tr>\n",
       "      <th>2</th>\n",
       "      <td>How_many_Landed_on_the_our_Page_and_clicked_on...</td>\n",
       "      <td>358456.263889</td>\n",
       "      <td>173177.5</td>\n",
       "      <td>173177.5</td>\n",
       "      <td>4.981331e+05</td>\n",
       "    </tr>\n",
       "    <tr>\n",
       "      <th>3</th>\n",
       "      <td>How_many_Landed_on_the_our_Page_and_clicked_on...</td>\n",
       "      <td>151072.456019</td>\n",
       "      <td>70649.5</td>\n",
       "      <td>70649.5</td>\n",
       "      <td>2.353538e+05</td>\n",
       "    </tr>\n",
       "    <tr>\n",
       "      <th>4</th>\n",
       "      <td>How_many_Landed_on_the_our_Page_and_clicked_on...</td>\n",
       "      <td>59221.291204</td>\n",
       "      <td>27004.5</td>\n",
       "      <td>27004.5</td>\n",
       "      <td>8.646564e+04</td>\n",
       "    </tr>\n",
       "  </tbody>\n",
       "</table>\n",
       "</div>"
      ],
      "text/plain": [
       "                                          Attributes           Mean    Median  \\\n",
       "0                                               Year    2020.000000    2020.0   \n",
       "1                       How_many_Landed_on_our_Page?  784494.885185  381820.5   \n",
       "2  How_many_Landed_on_the_our_Page_and_clicked_on...  358456.263889  173177.5   \n",
       "3  How_many_Landed_on_the_our_Page_and_clicked_on...  151072.456019   70649.5   \n",
       "4  How_many_Landed_on_the_our_Page_and_clicked_on...   59221.291204   27004.5   \n",
       "\n",
       "   quantile  standard deviatation  \n",
       "0    2020.0          8.166857e-01  \n",
       "1  381820.5          1.232518e+06  \n",
       "2  173177.5          4.981331e+05  \n",
       "3   70649.5          2.353538e+05  \n",
       "4   27004.5          8.646564e+04  "
      ]
     },
     "execution_count": 80,
     "metadata": {},
     "output_type": "execute_result"
    }
   ],
   "source": [
    "res_stats.head()"
   ]
  },
  {
   "cell_type": "code",
   "execution_count": 84,
   "metadata": {},
   "outputs": [],
   "source": [
    "categorial_feature=[features for features in df.columns if df[features].dtype=='O']"
   ]
  },
  {
   "cell_type": "code",
   "execution_count": 124,
   "metadata": {},
   "outputs": [],
   "source": [
    "cat_uni=[]"
   ]
  },
  {
   "cell_type": "code",
   "execution_count": 127,
   "metadata": {},
   "outputs": [],
   "source": [
    "cat_uni=[]\n",
    "for feature in categorial_feature:\n",
    "    cat_uni.append(feature)\n",
    "    cat_uni.append(df[feature].unique())\n",
    "    cat_uni.append(df[feature].dtype)\n",
    "    "
   ]
  },
  {
   "cell_type": "code",
   "execution_count": 128,
   "metadata": {},
   "outputs": [
    {
     "data": {
      "text/plain": [
       "['Month',\n",
       " array(['Jan', 'Feb', 'Mar', 'Apr', 'May', 'Jun', 'Jul', 'Aug', 'Sep',\n",
       "        'Oct', 'Nov', 'Dec'], dtype=object),\n",
       " dtype('O'),\n",
       " 'MobileWeb_or_Web',\n",
       " array(['Desktop_Website', 'Mobile_website'], dtype=object),\n",
       " dtype('O'),\n",
       " 'Type_of_Customers?',\n",
       " array(['Existing_Customer', 'New_Customer'], dtype=object),\n",
       " dtype('O'),\n",
       " 'Where_Are_They_comming_from?',\n",
       " array(['Came_From_Google', 'Landed_on_the_page_Directly',\n",
       "        'Unidentified_Sources'], dtype=object),\n",
       " dtype('O'),\n",
       " 'Which_Place_in_India?',\n",
       " array(['Bangalore', 'Chennai', 'Dehradun', 'Indore', 'Pune'], dtype=object),\n",
       " dtype('O')]"
      ]
     },
     "execution_count": 128,
     "metadata": {},
     "output_type": "execute_result"
    }
   ],
   "source": [
    "cat_uni"
   ]
  },
  {
   "cell_type": "markdown",
   "metadata": {},
   "source": [
    "3rd ques"
   ]
  },
  {
   "cell_type": "code",
   "execution_count": 182,
   "metadata": {},
   "outputs": [
    {
     "data": {
      "text/html": [
       "<div>\n",
       "<style scoped>\n",
       "    .dataframe tbody tr th:only-of-type {\n",
       "        vertical-align: middle;\n",
       "    }\n",
       "\n",
       "    .dataframe tbody tr th {\n",
       "        vertical-align: top;\n",
       "    }\n",
       "\n",
       "    .dataframe thead th {\n",
       "        text-align: right;\n",
       "    }\n",
       "</style>\n",
       "<table border=\"1\" class=\"dataframe\">\n",
       "  <thead>\n",
       "    <tr style=\"text-align: right;\">\n",
       "      <th></th>\n",
       "      <th>Year</th>\n",
       "      <th>Month</th>\n",
       "      <th>MobileWeb_or_Web</th>\n",
       "      <th>Type_of_Customers?</th>\n",
       "      <th>Where_Are_They_comming_from?</th>\n",
       "      <th>Which_Place_in_India?</th>\n",
       "      <th>How_many_Landed_on_our_Page?</th>\n",
       "      <th>How_many_Landed_on_the_our_Page_and_clicked_on_a_button?</th>\n",
       "      <th>How_many_Landed_on_the_our_Page_and_clicked_on_a_button_and_started_filling_the_Form?</th>\n",
       "      <th>How_many_Landed_on_the_our_Page_and_clicked_on_a_button_and_started_filling_the_Form_and_Completed_and_submited_the_form?</th>\n",
       "    </tr>\n",
       "  </thead>\n",
       "  <tbody>\n",
       "    <tr>\n",
       "      <th>2130</th>\n",
       "      <td>2021</td>\n",
       "      <td>Dec</td>\n",
       "      <td>Mobile_website</td>\n",
       "      <td>Existing_Customer</td>\n",
       "      <td>Came_From_Google</td>\n",
       "      <td>Bangalore</td>\n",
       "      <td>NaN</td>\n",
       "      <td>NaN</td>\n",
       "      <td>41854</td>\n",
       "      <td>15540</td>\n",
       "    </tr>\n",
       "    <tr>\n",
       "      <th>2131</th>\n",
       "      <td>2021</td>\n",
       "      <td>Dec</td>\n",
       "      <td>Mobile_website</td>\n",
       "      <td>Existing_Customer</td>\n",
       "      <td>Came_From_Google</td>\n",
       "      <td>Chennai</td>\n",
       "      <td>NaN</td>\n",
       "      <td>NaN</td>\n",
       "      <td>175196</td>\n",
       "      <td>51826</td>\n",
       "    </tr>\n",
       "    <tr>\n",
       "      <th>2132</th>\n",
       "      <td>2021</td>\n",
       "      <td>Dec</td>\n",
       "      <td>Mobile_website</td>\n",
       "      <td>Existing_Customer</td>\n",
       "      <td>Came_From_Google</td>\n",
       "      <td>Dehradun</td>\n",
       "      <td>NaN</td>\n",
       "      <td>NaN</td>\n",
       "      <td>56652</td>\n",
       "      <td>19632</td>\n",
       "    </tr>\n",
       "    <tr>\n",
       "      <th>2133</th>\n",
       "      <td>2021</td>\n",
       "      <td>Dec</td>\n",
       "      <td>Mobile_website</td>\n",
       "      <td>Existing_Customer</td>\n",
       "      <td>Came_From_Google</td>\n",
       "      <td>Indore</td>\n",
       "      <td>NaN</td>\n",
       "      <td>NaN</td>\n",
       "      <td>180732</td>\n",
       "      <td>70360</td>\n",
       "    </tr>\n",
       "    <tr>\n",
       "      <th>2134</th>\n",
       "      <td>2021</td>\n",
       "      <td>Dec</td>\n",
       "      <td>Mobile_website</td>\n",
       "      <td>Existing_Customer</td>\n",
       "      <td>Came_From_Google</td>\n",
       "      <td>Pune</td>\n",
       "      <td>NaN</td>\n",
       "      <td>NaN</td>\n",
       "      <td>231012</td>\n",
       "      <td>40554</td>\n",
       "    </tr>\n",
       "    <tr>\n",
       "      <th>2135</th>\n",
       "      <td>2021</td>\n",
       "      <td>Dec</td>\n",
       "      <td>Mobile_website</td>\n",
       "      <td>Existing_Customer</td>\n",
       "      <td>Landed_on_the_page_Directly</td>\n",
       "      <td>Bangalore</td>\n",
       "      <td>NaN</td>\n",
       "      <td>NaN</td>\n",
       "      <td>116534</td>\n",
       "      <td>31562</td>\n",
       "    </tr>\n",
       "    <tr>\n",
       "      <th>2136</th>\n",
       "      <td>2021</td>\n",
       "      <td>Dec</td>\n",
       "      <td>Mobile_website</td>\n",
       "      <td>Existing_Customer</td>\n",
       "      <td>Landed_on_the_page_Directly</td>\n",
       "      <td>Chennai</td>\n",
       "      <td>NaN</td>\n",
       "      <td>NaN</td>\n",
       "      <td>343444</td>\n",
       "      <td>79234</td>\n",
       "    </tr>\n",
       "    <tr>\n",
       "      <th>2137</th>\n",
       "      <td>2021</td>\n",
       "      <td>Dec</td>\n",
       "      <td>Mobile_website</td>\n",
       "      <td>Existing_Customer</td>\n",
       "      <td>Landed_on_the_page_Directly</td>\n",
       "      <td>Dehradun</td>\n",
       "      <td>NaN</td>\n",
       "      <td>NaN</td>\n",
       "      <td>210330</td>\n",
       "      <td>36908</td>\n",
       "    </tr>\n",
       "    <tr>\n",
       "      <th>2138</th>\n",
       "      <td>2021</td>\n",
       "      <td>Dec</td>\n",
       "      <td>Mobile_website</td>\n",
       "      <td>Existing_Customer</td>\n",
       "      <td>Landed_on_the_page_Directly</td>\n",
       "      <td>Indore</td>\n",
       "      <td>NaN</td>\n",
       "      <td>NaN</td>\n",
       "      <td>756832</td>\n",
       "      <td>233014</td>\n",
       "    </tr>\n",
       "    <tr>\n",
       "      <th>2139</th>\n",
       "      <td>2021</td>\n",
       "      <td>Dec</td>\n",
       "      <td>Mobile_website</td>\n",
       "      <td>Existing_Customer</td>\n",
       "      <td>Landed_on_the_page_Directly</td>\n",
       "      <td>Pune</td>\n",
       "      <td>NaN</td>\n",
       "      <td>NaN</td>\n",
       "      <td>686454</td>\n",
       "      <td>113148</td>\n",
       "    </tr>\n",
       "    <tr>\n",
       "      <th>2140</th>\n",
       "      <td>2021</td>\n",
       "      <td>Dec</td>\n",
       "      <td>Mobile_website</td>\n",
       "      <td>Existing_Customer</td>\n",
       "      <td>Unidentified_Sources</td>\n",
       "      <td>Bangalore</td>\n",
       "      <td>NaN</td>\n",
       "      <td>NaN</td>\n",
       "      <td>15532</td>\n",
       "      <td>2362</td>\n",
       "    </tr>\n",
       "    <tr>\n",
       "      <th>2141</th>\n",
       "      <td>2021</td>\n",
       "      <td>Dec</td>\n",
       "      <td>Mobile_website</td>\n",
       "      <td>Existing_Customer</td>\n",
       "      <td>Unidentified_Sources</td>\n",
       "      <td>Chennai</td>\n",
       "      <td>NaN</td>\n",
       "      <td>NaN</td>\n",
       "      <td>52330</td>\n",
       "      <td>7444</td>\n",
       "    </tr>\n",
       "    <tr>\n",
       "      <th>2142</th>\n",
       "      <td>2021</td>\n",
       "      <td>Dec</td>\n",
       "      <td>Mobile_website</td>\n",
       "      <td>Existing_Customer</td>\n",
       "      <td>Unidentified_Sources</td>\n",
       "      <td>Dehradun</td>\n",
       "      <td>NaN</td>\n",
       "      <td>NaN</td>\n",
       "      <td>24000</td>\n",
       "      <td>2648</td>\n",
       "    </tr>\n",
       "    <tr>\n",
       "      <th>2143</th>\n",
       "      <td>2021</td>\n",
       "      <td>Dec</td>\n",
       "      <td>Mobile_website</td>\n",
       "      <td>Existing_Customer</td>\n",
       "      <td>Unidentified_Sources</td>\n",
       "      <td>Indore</td>\n",
       "      <td>NaN</td>\n",
       "      <td>NaN</td>\n",
       "      <td>143186</td>\n",
       "      <td>48070</td>\n",
       "    </tr>\n",
       "    <tr>\n",
       "      <th>2144</th>\n",
       "      <td>2021</td>\n",
       "      <td>Dec</td>\n",
       "      <td>Mobile_website</td>\n",
       "      <td>Existing_Customer</td>\n",
       "      <td>Unidentified_Sources</td>\n",
       "      <td>Pune</td>\n",
       "      <td>NaN</td>\n",
       "      <td>NaN</td>\n",
       "      <td>79786</td>\n",
       "      <td>10214</td>\n",
       "    </tr>\n",
       "    <tr>\n",
       "      <th>2145</th>\n",
       "      <td>2021</td>\n",
       "      <td>Dec</td>\n",
       "      <td>Mobile_website</td>\n",
       "      <td>New_Customer</td>\n",
       "      <td>Came_From_Google</td>\n",
       "      <td>Bangalore</td>\n",
       "      <td>128494.0</td>\n",
       "      <td>63828.0</td>\n",
       "      <td>23298</td>\n",
       "      <td>15826</td>\n",
       "    </tr>\n",
       "    <tr>\n",
       "      <th>2146</th>\n",
       "      <td>2021</td>\n",
       "      <td>Dec</td>\n",
       "      <td>Mobile_website</td>\n",
       "      <td>New_Customer</td>\n",
       "      <td>Came_From_Google</td>\n",
       "      <td>Chennai</td>\n",
       "      <td>703987.0</td>\n",
       "      <td>373342.0</td>\n",
       "      <td>177585</td>\n",
       "      <td>123143</td>\n",
       "    </tr>\n",
       "    <tr>\n",
       "      <th>2147</th>\n",
       "      <td>2021</td>\n",
       "      <td>Dec</td>\n",
       "      <td>Mobile_website</td>\n",
       "      <td>New_Customer</td>\n",
       "      <td>Came_From_Google</td>\n",
       "      <td>Dehradun</td>\n",
       "      <td>186698.0</td>\n",
       "      <td>91439.0</td>\n",
       "      <td>33184</td>\n",
       "      <td>21651</td>\n",
       "    </tr>\n",
       "    <tr>\n",
       "      <th>2148</th>\n",
       "      <td>2021</td>\n",
       "      <td>Dec</td>\n",
       "      <td>Mobile_website</td>\n",
       "      <td>New_Customer</td>\n",
       "      <td>Came_From_Google</td>\n",
       "      <td>Indore</td>\n",
       "      <td>1087899.0</td>\n",
       "      <td>568852.0</td>\n",
       "      <td>290838</td>\n",
       "      <td>181990</td>\n",
       "    </tr>\n",
       "    <tr>\n",
       "      <th>2149</th>\n",
       "      <td>2021</td>\n",
       "      <td>Dec</td>\n",
       "      <td>Mobile_website</td>\n",
       "      <td>New_Customer</td>\n",
       "      <td>Came_From_Google</td>\n",
       "      <td>Pune</td>\n",
       "      <td>573975.0</td>\n",
       "      <td>309110.0</td>\n",
       "      <td>122134</td>\n",
       "      <td>79401</td>\n",
       "    </tr>\n",
       "    <tr>\n",
       "      <th>2150</th>\n",
       "      <td>2021</td>\n",
       "      <td>Dec</td>\n",
       "      <td>Mobile_website</td>\n",
       "      <td>New_Customer</td>\n",
       "      <td>Landed_on_the_page_Directly</td>\n",
       "      <td>Bangalore</td>\n",
       "      <td>1584819.0</td>\n",
       "      <td>283368.0</td>\n",
       "      <td>172363</td>\n",
       "      <td>97683</td>\n",
       "    </tr>\n",
       "    <tr>\n",
       "      <th>2151</th>\n",
       "      <td>2021</td>\n",
       "      <td>Dec</td>\n",
       "      <td>Mobile_website</td>\n",
       "      <td>New_Customer</td>\n",
       "      <td>Landed_on_the_page_Directly</td>\n",
       "      <td>Chennai</td>\n",
       "      <td>2643201.0</td>\n",
       "      <td>736359.0</td>\n",
       "      <td>457579</td>\n",
       "      <td>160901</td>\n",
       "    </tr>\n",
       "    <tr>\n",
       "      <th>2152</th>\n",
       "      <td>2021</td>\n",
       "      <td>Dec</td>\n",
       "      <td>Mobile_website</td>\n",
       "      <td>New_Customer</td>\n",
       "      <td>Landed_on_the_page_Directly</td>\n",
       "      <td>Dehradun</td>\n",
       "      <td>2255791.0</td>\n",
       "      <td>322486.0</td>\n",
       "      <td>175332</td>\n",
       "      <td>33685</td>\n",
       "    </tr>\n",
       "    <tr>\n",
       "      <th>2153</th>\n",
       "      <td>2021</td>\n",
       "      <td>Dec</td>\n",
       "      <td>Mobile_website</td>\n",
       "      <td>New_Customer</td>\n",
       "      <td>Landed_on_the_page_Directly</td>\n",
       "      <td>Indore</td>\n",
       "      <td>5706772.0</td>\n",
       "      <td>2913442.0</td>\n",
       "      <td>2157532</td>\n",
       "      <td>460367</td>\n",
       "    </tr>\n",
       "    <tr>\n",
       "      <th>2154</th>\n",
       "      <td>2021</td>\n",
       "      <td>Dec</td>\n",
       "      <td>Mobile_website</td>\n",
       "      <td>New_Customer</td>\n",
       "      <td>Landed_on_the_page_Directly</td>\n",
       "      <td>Pune</td>\n",
       "      <td>6229775.0</td>\n",
       "      <td>1498689.0</td>\n",
       "      <td>952269</td>\n",
       "      <td>338476</td>\n",
       "    </tr>\n",
       "    <tr>\n",
       "      <th>2155</th>\n",
       "      <td>2021</td>\n",
       "      <td>Dec</td>\n",
       "      <td>Mobile_website</td>\n",
       "      <td>New_Customer</td>\n",
       "      <td>Unidentified_Sources</td>\n",
       "      <td>Bangalore</td>\n",
       "      <td>67299.0</td>\n",
       "      <td>21255.0</td>\n",
       "      <td>6984</td>\n",
       "      <td>1882</td>\n",
       "    </tr>\n",
       "    <tr>\n",
       "      <th>2156</th>\n",
       "      <td>2021</td>\n",
       "      <td>Dec</td>\n",
       "      <td>Mobile_website</td>\n",
       "      <td>New_Customer</td>\n",
       "      <td>Unidentified_Sources</td>\n",
       "      <td>Chennai</td>\n",
       "      <td>430294.0</td>\n",
       "      <td>156510.0</td>\n",
       "      <td>46676</td>\n",
       "      <td>16703</td>\n",
       "    </tr>\n",
       "    <tr>\n",
       "      <th>2157</th>\n",
       "      <td>2021</td>\n",
       "      <td>Dec</td>\n",
       "      <td>Mobile_website</td>\n",
       "      <td>New_Customer</td>\n",
       "      <td>Unidentified_Sources</td>\n",
       "      <td>Dehradun</td>\n",
       "      <td>48713.0</td>\n",
       "      <td>27770.0</td>\n",
       "      <td>7515</td>\n",
       "      <td>2089</td>\n",
       "    </tr>\n",
       "    <tr>\n",
       "      <th>2158</th>\n",
       "      <td>2021</td>\n",
       "      <td>Dec</td>\n",
       "      <td>Mobile_website</td>\n",
       "      <td>New_Customer</td>\n",
       "      <td>Unidentified_Sources</td>\n",
       "      <td>Indore</td>\n",
       "      <td>593021.0</td>\n",
       "      <td>310836.0</td>\n",
       "      <td>161575</td>\n",
       "      <td>78465</td>\n",
       "    </tr>\n",
       "    <tr>\n",
       "      <th>2159</th>\n",
       "      <td>2021</td>\n",
       "      <td>Dec</td>\n",
       "      <td>Mobile_website</td>\n",
       "      <td>New_Customer</td>\n",
       "      <td>Unidentified_Sources</td>\n",
       "      <td>Pune</td>\n",
       "      <td>372897.0</td>\n",
       "      <td>123057.0</td>\n",
       "      <td>48802</td>\n",
       "      <td>19441</td>\n",
       "    </tr>\n",
       "  </tbody>\n",
       "</table>\n",
       "</div>"
      ],
      "text/plain": [
       "      Year Month MobileWeb_or_Web Type_of_Customers?  \\\n",
       "2130  2021   Dec   Mobile_website  Existing_Customer   \n",
       "2131  2021   Dec   Mobile_website  Existing_Customer   \n",
       "2132  2021   Dec   Mobile_website  Existing_Customer   \n",
       "2133  2021   Dec   Mobile_website  Existing_Customer   \n",
       "2134  2021   Dec   Mobile_website  Existing_Customer   \n",
       "2135  2021   Dec   Mobile_website  Existing_Customer   \n",
       "2136  2021   Dec   Mobile_website  Existing_Customer   \n",
       "2137  2021   Dec   Mobile_website  Existing_Customer   \n",
       "2138  2021   Dec   Mobile_website  Existing_Customer   \n",
       "2139  2021   Dec   Mobile_website  Existing_Customer   \n",
       "2140  2021   Dec   Mobile_website  Existing_Customer   \n",
       "2141  2021   Dec   Mobile_website  Existing_Customer   \n",
       "2142  2021   Dec   Mobile_website  Existing_Customer   \n",
       "2143  2021   Dec   Mobile_website  Existing_Customer   \n",
       "2144  2021   Dec   Mobile_website  Existing_Customer   \n",
       "2145  2021   Dec   Mobile_website       New_Customer   \n",
       "2146  2021   Dec   Mobile_website       New_Customer   \n",
       "2147  2021   Dec   Mobile_website       New_Customer   \n",
       "2148  2021   Dec   Mobile_website       New_Customer   \n",
       "2149  2021   Dec   Mobile_website       New_Customer   \n",
       "2150  2021   Dec   Mobile_website       New_Customer   \n",
       "2151  2021   Dec   Mobile_website       New_Customer   \n",
       "2152  2021   Dec   Mobile_website       New_Customer   \n",
       "2153  2021   Dec   Mobile_website       New_Customer   \n",
       "2154  2021   Dec   Mobile_website       New_Customer   \n",
       "2155  2021   Dec   Mobile_website       New_Customer   \n",
       "2156  2021   Dec   Mobile_website       New_Customer   \n",
       "2157  2021   Dec   Mobile_website       New_Customer   \n",
       "2158  2021   Dec   Mobile_website       New_Customer   \n",
       "2159  2021   Dec   Mobile_website       New_Customer   \n",
       "\n",
       "     Where_Are_They_comming_from? Which_Place_in_India?  \\\n",
       "2130             Came_From_Google             Bangalore   \n",
       "2131             Came_From_Google               Chennai   \n",
       "2132             Came_From_Google              Dehradun   \n",
       "2133             Came_From_Google                Indore   \n",
       "2134             Came_From_Google                  Pune   \n",
       "2135  Landed_on_the_page_Directly             Bangalore   \n",
       "2136  Landed_on_the_page_Directly               Chennai   \n",
       "2137  Landed_on_the_page_Directly              Dehradun   \n",
       "2138  Landed_on_the_page_Directly                Indore   \n",
       "2139  Landed_on_the_page_Directly                  Pune   \n",
       "2140         Unidentified_Sources             Bangalore   \n",
       "2141         Unidentified_Sources               Chennai   \n",
       "2142         Unidentified_Sources              Dehradun   \n",
       "2143         Unidentified_Sources                Indore   \n",
       "2144         Unidentified_Sources                  Pune   \n",
       "2145             Came_From_Google             Bangalore   \n",
       "2146             Came_From_Google               Chennai   \n",
       "2147             Came_From_Google              Dehradun   \n",
       "2148             Came_From_Google                Indore   \n",
       "2149             Came_From_Google                  Pune   \n",
       "2150  Landed_on_the_page_Directly             Bangalore   \n",
       "2151  Landed_on_the_page_Directly               Chennai   \n",
       "2152  Landed_on_the_page_Directly              Dehradun   \n",
       "2153  Landed_on_the_page_Directly                Indore   \n",
       "2154  Landed_on_the_page_Directly                  Pune   \n",
       "2155         Unidentified_Sources             Bangalore   \n",
       "2156         Unidentified_Sources               Chennai   \n",
       "2157         Unidentified_Sources              Dehradun   \n",
       "2158         Unidentified_Sources                Indore   \n",
       "2159         Unidentified_Sources                  Pune   \n",
       "\n",
       "      How_many_Landed_on_our_Page?  \\\n",
       "2130                           NaN   \n",
       "2131                           NaN   \n",
       "2132                           NaN   \n",
       "2133                           NaN   \n",
       "2134                           NaN   \n",
       "2135                           NaN   \n",
       "2136                           NaN   \n",
       "2137                           NaN   \n",
       "2138                           NaN   \n",
       "2139                           NaN   \n",
       "2140                           NaN   \n",
       "2141                           NaN   \n",
       "2142                           NaN   \n",
       "2143                           NaN   \n",
       "2144                           NaN   \n",
       "2145                      128494.0   \n",
       "2146                      703987.0   \n",
       "2147                      186698.0   \n",
       "2148                     1087899.0   \n",
       "2149                      573975.0   \n",
       "2150                     1584819.0   \n",
       "2151                     2643201.0   \n",
       "2152                     2255791.0   \n",
       "2153                     5706772.0   \n",
       "2154                     6229775.0   \n",
       "2155                       67299.0   \n",
       "2156                      430294.0   \n",
       "2157                       48713.0   \n",
       "2158                      593021.0   \n",
       "2159                      372897.0   \n",
       "\n",
       "      How_many_Landed_on_the_our_Page_and_clicked_on_a_button?  \\\n",
       "2130                                                NaN          \n",
       "2131                                                NaN          \n",
       "2132                                                NaN          \n",
       "2133                                                NaN          \n",
       "2134                                                NaN          \n",
       "2135                                                NaN          \n",
       "2136                                                NaN          \n",
       "2137                                                NaN          \n",
       "2138                                                NaN          \n",
       "2139                                                NaN          \n",
       "2140                                                NaN          \n",
       "2141                                                NaN          \n",
       "2142                                                NaN          \n",
       "2143                                                NaN          \n",
       "2144                                                NaN          \n",
       "2145                                            63828.0          \n",
       "2146                                           373342.0          \n",
       "2147                                            91439.0          \n",
       "2148                                           568852.0          \n",
       "2149                                           309110.0          \n",
       "2150                                           283368.0          \n",
       "2151                                           736359.0          \n",
       "2152                                           322486.0          \n",
       "2153                                          2913442.0          \n",
       "2154                                          1498689.0          \n",
       "2155                                            21255.0          \n",
       "2156                                           156510.0          \n",
       "2157                                            27770.0          \n",
       "2158                                           310836.0          \n",
       "2159                                           123057.0          \n",
       "\n",
       "      How_many_Landed_on_the_our_Page_and_clicked_on_a_button_and_started_filling_the_Form?  \\\n",
       "2130                                              41854                                       \n",
       "2131                                             175196                                       \n",
       "2132                                              56652                                       \n",
       "2133                                             180732                                       \n",
       "2134                                             231012                                       \n",
       "2135                                             116534                                       \n",
       "2136                                             343444                                       \n",
       "2137                                             210330                                       \n",
       "2138                                             756832                                       \n",
       "2139                                             686454                                       \n",
       "2140                                              15532                                       \n",
       "2141                                              52330                                       \n",
       "2142                                              24000                                       \n",
       "2143                                             143186                                       \n",
       "2144                                              79786                                       \n",
       "2145                                              23298                                       \n",
       "2146                                             177585                                       \n",
       "2147                                              33184                                       \n",
       "2148                                             290838                                       \n",
       "2149                                             122134                                       \n",
       "2150                                             172363                                       \n",
       "2151                                             457579                                       \n",
       "2152                                             175332                                       \n",
       "2153                                            2157532                                       \n",
       "2154                                             952269                                       \n",
       "2155                                               6984                                       \n",
       "2156                                              46676                                       \n",
       "2157                                               7515                                       \n",
       "2158                                             161575                                       \n",
       "2159                                              48802                                       \n",
       "\n",
       "      How_many_Landed_on_the_our_Page_and_clicked_on_a_button_and_started_filling_the_Form_and_Completed_and_submited_the_form?  \n",
       "2130                                              15540                                                                          \n",
       "2131                                              51826                                                                          \n",
       "2132                                              19632                                                                          \n",
       "2133                                              70360                                                                          \n",
       "2134                                              40554                                                                          \n",
       "2135                                              31562                                                                          \n",
       "2136                                              79234                                                                          \n",
       "2137                                              36908                                                                          \n",
       "2138                                             233014                                                                          \n",
       "2139                                             113148                                                                          \n",
       "2140                                               2362                                                                          \n",
       "2141                                               7444                                                                          \n",
       "2142                                               2648                                                                          \n",
       "2143                                              48070                                                                          \n",
       "2144                                              10214                                                                          \n",
       "2145                                              15826                                                                          \n",
       "2146                                             123143                                                                          \n",
       "2147                                              21651                                                                          \n",
       "2148                                             181990                                                                          \n",
       "2149                                              79401                                                                          \n",
       "2150                                              97683                                                                          \n",
       "2151                                             160901                                                                          \n",
       "2152                                              33685                                                                          \n",
       "2153                                             460367                                                                          \n",
       "2154                                             338476                                                                          \n",
       "2155                                               1882                                                                          \n",
       "2156                                              16703                                                                          \n",
       "2157                                               2089                                                                          \n",
       "2158                                              78465                                                                          \n",
       "2159                                              19441                                                                          "
      ]
     },
     "execution_count": 182,
     "metadata": {},
     "output_type": "execute_result"
    }
   ],
   "source": [
    "df.tail(30)"
   ]
  },
  {
   "cell_type": "code",
   "execution_count": 164,
   "metadata": {},
   "outputs": [],
   "source": [
    "maxi=df[['Which_Place_in_India?','How_many_Landed_on_our_Page?']]"
   ]
  },
  {
   "cell_type": "code",
   "execution_count": 165,
   "metadata": {},
   "outputs": [],
   "source": [
    "maxi=maxi.dropna()"
   ]
  },
  {
   "cell_type": "code",
   "execution_count": 166,
   "metadata": {},
   "outputs": [],
   "source": [
    "maxi=np.array(maxi)"
   ]
  },
  {
   "cell_type": "code",
   "execution_count": 169,
   "metadata": {},
   "outputs": [],
   "source": [
    "m=0\n",
    "\n",
    "ans1=''\n",
    "for i in range(len(maxi)):\n",
    "    if m<maxi[i][1]:\n",
    "        m=maxi[i][1]\n",
    "        ans1=maxi[i][0]"
   ]
  },
  {
   "cell_type": "code",
   "execution_count": 170,
   "metadata": {},
   "outputs": [
    {
     "data": {
      "text/plain": [
       "11274131.0"
      ]
     },
     "execution_count": 170,
     "metadata": {},
     "output_type": "execute_result"
    }
   ],
   "source": [
    "m"
   ]
  },
  {
   "cell_type": "code",
   "execution_count": 160,
   "metadata": {},
   "outputs": [],
   "source": [
    "ans2=''"
   ]
  },
  {
   "cell_type": "code",
   "execution_count": 176,
   "metadata": {},
   "outputs": [],
   "source": [
    "maxi=df[['Which_Place_in_India?','How_many_Landed_on_our_Page?','How_many_Landed_on_the_our_Page_and_clicked_on_a_button?','How_many_Landed_on_the_our_Page_and_clicked_on_a_button_and_started_filling_the_Form?','How_many_Landed_on_the_our_Page_and_clicked_on_a_button_and_started_filling_the_Form_and_Completed_and_submited_the_form?']]"
   ]
  },
  {
   "cell_type": "code",
   "execution_count": 177,
   "metadata": {},
   "outputs": [],
   "source": [
    "maxi=maxi.dropna()\n",
    "maxi=np.array(maxi)"
   ]
  },
  {
   "cell_type": "code",
   "execution_count": 178,
   "metadata": {},
   "outputs": [
    {
     "data": {
      "text/plain": [
       "(1080, 5)"
      ]
     },
     "execution_count": 178,
     "metadata": {},
     "output_type": "execute_result"
    }
   ],
   "source": [
    "maxi.shape"
   ]
  },
  {
   "cell_type": "code",
   "execution_count": 179,
   "metadata": {},
   "outputs": [],
   "source": [
    "m=0\n",
    "for i in range(len(maxi[0])):\n",
    "     temp=(maxi[i][1]+maxi[i][2]+maxi[i][3]+maxi[i][4])/maxi[i][1]\n",
    "     if m<temp:\n",
    "        m=temp\n",
    "        ans2=maxi[i][0]"
   ]
  },
  {
   "cell_type": "code",
   "execution_count": 180,
   "metadata": {},
   "outputs": [
    {
     "data": {
      "text/plain": [
       "'Indore'"
      ]
     },
     "execution_count": 180,
     "metadata": {},
     "output_type": "execute_result"
    }
   ],
   "source": [
    "ans2"
   ]
  },
  {
   "cell_type": "markdown",
   "metadata": {},
   "source": [
    "solution of ques 4 using arima"
   ]
  },
  {
   "cell_type": "code",
   "execution_count": 190,
   "metadata": {},
   "outputs": [],
   "source": [
    "import pandas_datareader as pdr\n",
    "import pandas as pd\n",
    "import seaborn as sns\n",
    "import numpy as np\n",
    "import matplotlib.pyplot as plt\n",
    "%matplotlib inline"
   ]
  },
  {
   "cell_type": "code",
   "execution_count": 275,
   "metadata": {},
   "outputs": [],
   "source": [
    "dataset=df[['Year','How_many_Landed_on_the_our_Page_and_clicked_on_a_button_and_started_filling_the_Form_and_Completed_and_submited_the_form?']]"
   ]
  },
  {
   "cell_type": "code",
   "execution_count": 276,
   "metadata": {},
   "outputs": [],
   "source": [
    "train_data=pd.DataFrame()"
   ]
  },
  {
   "cell_type": "code",
   "execution_count": 277,
   "metadata": {},
   "outputs": [],
   "source": [
    "train_data['Year']=df.Year.values"
   ]
  },
  {
   "cell_type": "code",
   "execution_count": 278,
   "metadata": {},
   "outputs": [],
   "source": [
    "train_data['Close']=df['How_many_Landed_on_the_our_Page_and_clicked_on_a_button_and_started_filling_the_Form_and_Completed_and_submited_the_form?']"
   ]
  },
  {
   "cell_type": "code",
   "execution_count": 279,
   "metadata": {},
   "outputs": [
    {
     "data": {
      "text/html": [
       "<div>\n",
       "<style scoped>\n",
       "    .dataframe tbody tr th:only-of-type {\n",
       "        vertical-align: middle;\n",
       "    }\n",
       "\n",
       "    .dataframe tbody tr th {\n",
       "        vertical-align: top;\n",
       "    }\n",
       "\n",
       "    .dataframe thead th {\n",
       "        text-align: right;\n",
       "    }\n",
       "</style>\n",
       "<table border=\"1\" class=\"dataframe\">\n",
       "  <thead>\n",
       "    <tr style=\"text-align: right;\">\n",
       "      <th></th>\n",
       "      <th>Close</th>\n",
       "    </tr>\n",
       "    <tr>\n",
       "      <th>Year</th>\n",
       "      <th></th>\n",
       "    </tr>\n",
       "  </thead>\n",
       "  <tbody>\n",
       "    <tr>\n",
       "      <th>2019</th>\n",
       "      <td>17178</td>\n",
       "    </tr>\n",
       "    <tr>\n",
       "      <th>2019</th>\n",
       "      <td>11916</td>\n",
       "    </tr>\n",
       "    <tr>\n",
       "      <th>2019</th>\n",
       "      <td>19461</td>\n",
       "    </tr>\n",
       "    <tr>\n",
       "      <th>2019</th>\n",
       "      <td>110667</td>\n",
       "    </tr>\n",
       "    <tr>\n",
       "      <th>2019</th>\n",
       "      <td>46033</td>\n",
       "    </tr>\n",
       "  </tbody>\n",
       "</table>\n",
       "</div>"
      ],
      "text/plain": [
       "       Close\n",
       "Year        \n",
       "2019   17178\n",
       "2019   11916\n",
       "2019   19461\n",
       "2019  110667\n",
       "2019   46033"
      ]
     },
     "execution_count": 279,
     "metadata": {},
     "output_type": "execute_result"
    }
   ],
   "source": [
    "train_data=train_data.set_index('Year')\n",
    "train_data.head()"
   ]
  },
  {
   "cell_type": "code",
   "execution_count": 280,
   "metadata": {},
   "outputs": [],
   "source": [
    "train=list(dataset[:]['How_many_Landed_on_the_our_Page_and_clicked_on_a_button_and_started_filling_the_Form_and_Completed_and_submited_the_form?'])"
   ]
  },
  {
   "cell_type": "code",
   "execution_count": 205,
   "metadata": {},
   "outputs": [],
   "source": [
    "from statsmodels.tsa.arima_model import ARIMA\n",
    "from statsmodels.tsa.stattools import adfuller"
   ]
  },
  {
   "cell_type": "code",
   "execution_count": 211,
   "metadata": {},
   "outputs": [
    {
     "name": "stdout",
     "output_type": "stream",
     "text": [
      "AdY statistics -10.07833169659005\n",
      "p-value 1.2070774227036251e-17\n"
     ]
    }
   ],
   "source": [
    "result=adfuller(train_data.Close.dropna())\n",
    "print(\"AdY statistics\",result[0])\n",
    "print(\"p-value\",result[1])"
   ]
  },
  {
   "cell_type": "code",
   "execution_count": 207,
   "metadata": {},
   "outputs": [],
   "source": [
    "from statsmodels.graphics.tsaplots import plot_acf,plot_pacf"
   ]
  },
  {
   "cell_type": "code",
   "execution_count": 212,
   "metadata": {},
   "outputs": [
    {
     "data": {
      "image/png": "[encoded data removed]",
      "text/plain": [
       "<Figure size 1152x288 with 2 Axes>"
      ]
     },
     "metadata": {
      "needs_background": "light"
     },
     "output_type": "display_data"
    }
   ],
   "source": [
    "fig,(ax1,ax2)=plt.subplots(1,2,figsize=(16,4))\n",
    "ax1.plot(train_data.Close)\n",
    "ax1.set_title(\"Original\")\n",
    "plot_acf(train_data.Close,ax=ax2);"
   ]
  },
  {
   "cell_type": "code",
   "execution_count": 213,
   "metadata": {},
   "outputs": [
    {
     "data": {
      "image/png": "[encoded data removed]",
      "text/plain": [
       "<Figure size 1152x288 with 2 Axes>"
      ]
     },
     "metadata": {
      "needs_background": "light"
     },
     "output_type": "display_data"
    }
   ],
   "source": [
    "diff=train_data.Close.diff().dropna()\n",
    "fig,(ax1,ax2)=plt.subplots(1,2,figsize=(16,4))\n",
    "ax1.plot(diff)\n",
    "ax1.set_title(\"difference once\")\n",
    "plot_acf(diff,ax=ax2);"
   ]
  },
  {
   "cell_type": "code",
   "execution_count": 214,
   "metadata": {},
   "outputs": [
    {
     "data": {
      "image/png": "[encoded data removed]",
      "text/plain": [
       "<Figure size 1152x288 with 2 Axes>"
      ]
     },
     "metadata": {
      "needs_background": "light"
     },
     "output_type": "display_data"
    }
   ],
   "source": [
    "diff=train_data.Close.diff().diff().dropna()\n",
    "fig,(ax1,ax2)=plt.subplots(1,2,figsize=(16,4))\n",
    "ax1.plot(diff)\n",
    "ax1.set_title(\"difference once\")\n",
    "plot_acf(diff,ax=ax2);"
   ]
  },
  {
   "cell_type": "code",
   "execution_count": 216,
   "metadata": {},
   "outputs": [
    {
     "data": {
      "image/png": "[encoded data removed]",
      "text/plain": [
       "<Figure size 1152x288 with 2 Axes>"
      ]
     },
     "metadata": {
      "needs_background": "light"
     },
     "output_type": "display_data"
    }
   ],
   "source": [
    "diff=train_data.Close.dropna()\n",
    "fig,(ax1,ax2)=plt.subplots(1,2,figsize=(16,4))\n",
    "ax1.plot(diff)\n",
    "ax1.set_title(\"difference once\")\n",
    "plot_pacf(diff,ax=ax2);"
   ]
  },
  {
   "cell_type": "code",
   "execution_count": 281,
   "metadata": {},
   "outputs": [
    {
     "name": "stderr",
     "output_type": "stream",
     "text": [
      "c:\\ProgramData\\Anaconda3\\lib\\site-packages\\statsmodels\\tsa\\arima_model.py:472: FutureWarning: \n",
      "statsmodels.tsa.arima_model.ARMA and statsmodels.tsa.arima_model.ARIMA have\n",
      "been deprecated in favor of statsmodels.tsa.arima.model.ARIMA (note the .\n",
      "between arima and model) and\n",
      "statsmodels.tsa.SARIMAX. These will be removed after the 0.12 release.\n",
      "\n",
      "statsmodels.tsa.arima.model.ARIMA makes use of the statespace framework and\n",
      "is both well tested and maintained.\n",
      "\n",
      "To silence this warning and continue using ARMA and ARIMA until they are\n",
      "removed, use:\n",
      "\n",
      "import warnings\n",
      "warnings.filterwarnings('ignore', 'statsmodels.tsa.arima_model.ARMA',\n",
      "                        FutureWarning)\n",
      "warnings.filterwarnings('ignore', 'statsmodels.tsa.arima_model.ARIMA',\n",
      "                        FutureWarning)\n",
      "\n",
      "  warnings.warn(ARIMA_DEPRECATION_WARN, FutureWarning)\n"
     ]
    }
   ],
   "source": [
    " model=ARIMA(train,order=(5,0,1))\n"
   ]
  },
  {
   "cell_type": "code",
   "execution_count": 282,
   "metadata": {},
   "outputs": [],
   "source": [
    " model_fit=model.fit()"
   ]
  },
  {
   "cell_type": "code",
   "execution_count": 311,
   "metadata": {},
   "outputs": [],
   "source": [
    "output2022=model_fit.forecast(720)"
   ]
  },
  {
   "cell_type": "code",
   "execution_count": 312,
   "metadata": {},
   "outputs": [
    {
     "data": {
      "text/plain": [
       "(array([14378.47170469, 53186.91128911, 40791.06767579, 64861.91465248,\n",
       "        52832.75216246, 47821.54321974, 59295.5882704 , 53714.23178768,\n",
       "        60528.61569359, 58573.81038748, 56160.31633558, 59713.95926566,\n",
       "        57681.86007813, 59435.47711947, 59329.08565147, 58358.30743336,\n",
       "        59472.5062989 , 58819.55808175, 59220.94465896, 59327.86816374,\n",
       "        58970.14061337, 59315.1814058 , 59125.10218911, 59199.95930473,\n",
       "        59271.75367004, 59147.37611619, 59251.23157287, 59201.18476984,\n",
       "        59208.31822697, 59240.96489431, 59199.70103339, 59229.72537385,\n",
       "        59218.19489641, 59215.4597368 , 59228.2460405 , 59215.13095827,\n",
       "        59223.36354678, 59221.29920755, 59218.99742887, 59223.59322519,\n",
       "        59219.59989787, 59221.69968921, 59221.58019069, 59220.45946653,\n",
       "        59222.01332972, 59220.85259203, 59221.33142216, 59221.46199331,\n",
       "        59221.00701288, 59221.50650903, 59221.18705281, 59221.27455837,\n",
       "        59221.3660079 , 59221.19877575, 59221.35199325, 59221.27012241,\n",
       "        59221.27688474, 59221.3198852 , 59221.26247854, 59221.30726869,\n",
       "        59221.28842743, 59221.28405361, 59221.30133451, 59221.28267698,\n",
       "        59221.29507329, 59221.29154768, 59221.28823386, 59221.29457034,\n",
       "        59221.2887982 , 59221.29199805, 59221.29167932, 59221.29008928,\n",
       "        59221.29226585, 59221.29056618, 59221.29131137, 59221.29145889,\n",
       "        59221.29081372, 59221.29152257, 59221.29104886, 59221.29119214,\n",
       "        59221.29131259, 59221.29107457, 59221.29129451, 59221.29117125,\n",
       "        59221.29118624, 59221.29124512, 59221.29116299, 59221.29122798,\n",
       "        59221.29119895, 59221.29119421, 59221.29121832, 59221.29119146,\n",
       "        59221.29120966, 59221.29120395, 59221.29119963, 59221.29120857,\n",
       "        59221.29120021, 59221.29120497, 59221.29120431, 59221.29120215,\n",
       "        59221.29120525, 59221.29120276, 59221.2912039 , 59221.29120405,\n",
       "        59221.29120315, 59221.29120417, 59221.29120347, 59221.2912037 ,\n",
       "        59221.29120385, 59221.29120352, 59221.29120384, 59221.29120365,\n",
       "        59221.29120368, 59221.29120376, 59221.29120365, 59221.29120374,\n",
       "        59221.2912037 , 59221.29120369, 59221.29120372, 59221.29120369,\n",
       "        59221.29120371, 59221.2912037 , 59221.2912037 , 59221.29120371,\n",
       "        59221.2912037 , 59221.29120371, 59221.2912037 , 59221.2912037 ,\n",
       "        59221.29120371, 59221.2912037 , 59221.2912037 , 59221.2912037 ,\n",
       "        59221.2912037 , 59221.2912037 , 59221.2912037 , 59221.2912037 ,\n",
       "        59221.2912037 , 59221.2912037 , 59221.2912037 , 59221.2912037 ,\n",
       "        59221.2912037 , 59221.2912037 , 59221.2912037 , 59221.2912037 ,\n",
       "        59221.2912037 , 59221.2912037 , 59221.2912037 , 59221.2912037 ,\n",
       "        59221.2912037 , 59221.2912037 , 59221.2912037 , 59221.2912037 ,\n",
       "        59221.2912037 , 59221.2912037 , 59221.2912037 , 59221.2912037 ,\n",
       "        59221.2912037 , 59221.2912037 , 59221.2912037 , 59221.2912037 ,\n",
       "        59221.2912037 , 59221.2912037 , 59221.2912037 , 59221.2912037 ,\n",
       "        59221.2912037 , 59221.2912037 , 59221.2912037 , 59221.2912037 ,\n",
       "        59221.2912037 , 59221.2912037 , 59221.2912037 , 59221.2912037 ,\n",
       "        59221.2912037 , 59221.2912037 , 59221.2912037 , 59221.2912037 ,\n",
       "        59221.2912037 , 59221.2912037 , 59221.2912037 , 59221.2912037 ,\n",
       "        59221.2912037 , 59221.2912037 , 59221.2912037 , 59221.2912037 ,\n",
       "        59221.2912037 , 59221.2912037 , 59221.2912037 , 59221.2912037 ,\n",
       "        59221.2912037 , 59221.2912037 , 59221.2912037 , 59221.2912037 ,\n",
       "        59221.2912037 , 59221.2912037 , 59221.2912037 , 59221.2912037 ,\n",
       "        59221.2912037 , 59221.2912037 , 59221.2912037 , 59221.2912037 ,\n",
       "        59221.2912037 , 59221.2912037 , 59221.2912037 , 59221.2912037 ,\n",
       "        59221.2912037 , 59221.2912037 , 59221.2912037 , 59221.2912037 ,\n",
       "        59221.2912037 , 59221.2912037 , 59221.2912037 , 59221.2912037 ,\n",
       "        59221.2912037 , 59221.2912037 , 59221.2912037 , 59221.2912037 ,\n",
       "        59221.2912037 , 59221.2912037 , 59221.2912037 , 59221.2912037 ,\n",
       "        59221.2912037 , 59221.2912037 , 59221.2912037 , 59221.2912037 ,\n",
       "        59221.2912037 , 59221.2912037 , 59221.2912037 , 59221.2912037 ,\n",
       "        59221.2912037 , 59221.2912037 , 59221.2912037 , 59221.2912037 ,\n",
       "        59221.2912037 , 59221.2912037 , 59221.2912037 , 59221.2912037 ,\n",
       "        59221.2912037 , 59221.2912037 , 59221.2912037 , 59221.2912037 ,\n",
       "        59221.2912037 , 59221.2912037 , 59221.2912037 , 59221.2912037 ,\n",
       "        59221.2912037 , 59221.2912037 , 59221.2912037 , 59221.2912037 ,\n",
       "        59221.2912037 , 59221.2912037 , 59221.2912037 , 59221.2912037 ,\n",
       "        59221.2912037 , 59221.2912037 , 59221.2912037 , 59221.2912037 ,\n",
       "        59221.2912037 , 59221.2912037 , 59221.2912037 , 59221.2912037 ,\n",
       "        59221.2912037 , 59221.2912037 , 59221.2912037 , 59221.2912037 ,\n",
       "        59221.2912037 , 59221.2912037 , 59221.2912037 , 59221.2912037 ,\n",
       "        59221.2912037 , 59221.2912037 , 59221.2912037 , 59221.2912037 ,\n",
       "        59221.2912037 , 59221.2912037 , 59221.2912037 , 59221.2912037 ,\n",
       "        59221.2912037 , 59221.2912037 , 59221.2912037 , 59221.2912037 ,\n",
       "        59221.2912037 , 59221.2912037 , 59221.2912037 , 59221.2912037 ,\n",
       "        59221.2912037 , 59221.2912037 , 59221.2912037 , 59221.2912037 ,\n",
       "        59221.2912037 , 59221.2912037 , 59221.2912037 , 59221.2912037 ,\n",
       "        59221.2912037 , 59221.2912037 , 59221.2912037 , 59221.2912037 ,\n",
       "        59221.2912037 , 59221.2912037 , 59221.2912037 , 59221.2912037 ,\n",
       "        59221.2912037 , 59221.2912037 , 59221.2912037 , 59221.2912037 ,\n",
       "        59221.2912037 , 59221.2912037 , 59221.2912037 , 59221.2912037 ,\n",
       "        59221.2912037 , 59221.2912037 , 59221.2912037 , 59221.2912037 ,\n",
       "        59221.2912037 , 59221.2912037 , 59221.2912037 , 59221.2912037 ,\n",
       "        59221.2912037 , 59221.2912037 , 59221.2912037 , 59221.2912037 ,\n",
       "        59221.2912037 , 59221.2912037 , 59221.2912037 , 59221.2912037 ,\n",
       "        59221.2912037 , 59221.2912037 , 59221.2912037 , 59221.2912037 ,\n",
       "        59221.2912037 , 59221.2912037 , 59221.2912037 , 59221.2912037 ,\n",
       "        59221.2912037 , 59221.2912037 , 59221.2912037 , 59221.2912037 ,\n",
       "        59221.2912037 , 59221.2912037 , 59221.2912037 , 59221.2912037 ,\n",
       "        59221.2912037 , 59221.2912037 , 59221.2912037 , 59221.2912037 ,\n",
       "        59221.2912037 , 59221.2912037 , 59221.2912037 , 59221.2912037 ,\n",
       "        59221.2912037 , 59221.2912037 , 59221.2912037 , 59221.2912037 ,\n",
       "        59221.2912037 , 59221.2912037 , 59221.2912037 , 59221.2912037 ,\n",
       "        59221.2912037 , 59221.2912037 , 59221.2912037 , 59221.2912037 ,\n",
       "        59221.2912037 , 59221.2912037 , 59221.2912037 , 59221.2912037 ,\n",
       "        59221.2912037 , 59221.2912037 , 59221.2912037 , 59221.2912037 ,\n",
       "        59221.2912037 , 59221.2912037 , 59221.2912037 , 59221.2912037 ,\n",
       "        59221.2912037 , 59221.2912037 , 59221.2912037 , 59221.2912037 ,\n",
       "        59221.2912037 , 59221.2912037 , 59221.2912037 , 59221.2912037 ,\n",
       "        59221.2912037 , 59221.2912037 , 59221.2912037 , 59221.2912037 ,\n",
       "        59221.2912037 , 59221.2912037 , 59221.2912037 , 59221.2912037 ,\n",
       "        59221.2912037 , 59221.2912037 , 59221.2912037 , 59221.2912037 ,\n",
       "        59221.2912037 , 59221.2912037 , 59221.2912037 , 59221.2912037 ,\n",
       "        59221.2912037 , 59221.2912037 , 59221.2912037 , 59221.2912037 ,\n",
       "        59221.2912037 , 59221.2912037 , 59221.2912037 , 59221.2912037 ,\n",
       "        59221.2912037 , 59221.2912037 , 59221.2912037 , 59221.2912037 ,\n",
       "        59221.2912037 , 59221.2912037 , 59221.2912037 , 59221.2912037 ,\n",
       "        59221.2912037 , 59221.2912037 , 59221.2912037 , 59221.2912037 ,\n",
       "        59221.2912037 , 59221.2912037 , 59221.2912037 , 59221.2912037 ,\n",
       "        59221.2912037 , 59221.2912037 , 59221.2912037 , 59221.2912037 ,\n",
       "        59221.2912037 , 59221.2912037 , 59221.2912037 , 59221.2912037 ,\n",
       "        59221.2912037 , 59221.2912037 , 59221.2912037 , 59221.2912037 ,\n",
       "        59221.2912037 , 59221.2912037 , 59221.2912037 , 59221.2912037 ,\n",
       "        59221.2912037 , 59221.2912037 , 59221.2912037 , 59221.2912037 ,\n",
       "        59221.2912037 , 59221.2912037 , 59221.2912037 , 59221.2912037 ,\n",
       "        59221.2912037 , 59221.2912037 , 59221.2912037 , 59221.2912037 ,\n",
       "        59221.2912037 , 59221.2912037 , 59221.2912037 , 59221.2912037 ,\n",
       "        59221.2912037 , 59221.2912037 , 59221.2912037 , 59221.2912037 ,\n",
       "        59221.2912037 , 59221.2912037 , 59221.2912037 , 59221.2912037 ,\n",
       "        59221.2912037 , 59221.2912037 , 59221.2912037 , 59221.2912037 ,\n",
       "        59221.2912037 , 59221.2912037 , 59221.2912037 , 59221.2912037 ,\n",
       "        59221.2912037 , 59221.2912037 , 59221.2912037 , 59221.2912037 ,\n",
       "        59221.2912037 , 59221.2912037 , 59221.2912037 , 59221.2912037 ,\n",
       "        59221.2912037 , 59221.2912037 , 59221.2912037 , 59221.2912037 ,\n",
       "        59221.2912037 , 59221.2912037 , 59221.2912037 , 59221.2912037 ,\n",
       "        59221.2912037 , 59221.2912037 , 59221.2912037 , 59221.2912037 ,\n",
       "        59221.2912037 , 59221.2912037 , 59221.2912037 , 59221.2912037 ,\n",
       "        59221.2912037 , 59221.2912037 , 59221.2912037 , 59221.2912037 ,\n",
       "        59221.2912037 , 59221.2912037 , 59221.2912037 , 59221.2912037 ,\n",
       "        59221.2912037 , 59221.2912037 , 59221.2912037 , 59221.2912037 ,\n",
       "        59221.2912037 , 59221.2912037 , 59221.2912037 , 59221.2912037 ,\n",
       "        59221.2912037 , 59221.2912037 , 59221.2912037 , 59221.2912037 ,\n",
       "        59221.2912037 , 59221.2912037 , 59221.2912037 , 59221.2912037 ,\n",
       "        59221.2912037 , 59221.2912037 , 59221.2912037 , 59221.2912037 ,\n",
       "        59221.2912037 , 59221.2912037 , 59221.2912037 , 59221.2912037 ,\n",
       "        59221.2912037 , 59221.2912037 , 59221.2912037 , 59221.2912037 ,\n",
       "        59221.2912037 , 59221.2912037 , 59221.2912037 , 59221.2912037 ,\n",
       "        59221.2912037 , 59221.2912037 , 59221.2912037 , 59221.2912037 ,\n",
       "        59221.2912037 , 59221.2912037 , 59221.2912037 , 59221.2912037 ,\n",
       "        59221.2912037 , 59221.2912037 , 59221.2912037 , 59221.2912037 ,\n",
       "        59221.2912037 , 59221.2912037 , 59221.2912037 , 59221.2912037 ,\n",
       "        59221.2912037 , 59221.2912037 , 59221.2912037 , 59221.2912037 ,\n",
       "        59221.2912037 , 59221.2912037 , 59221.2912037 , 59221.2912037 ,\n",
       "        59221.2912037 , 59221.2912037 , 59221.2912037 , 59221.2912037 ,\n",
       "        59221.2912037 , 59221.2912037 , 59221.2912037 , 59221.2912037 ,\n",
       "        59221.2912037 , 59221.2912037 , 59221.2912037 , 59221.2912037 ,\n",
       "        59221.2912037 , 59221.2912037 , 59221.2912037 , 59221.2912037 ,\n",
       "        59221.2912037 , 59221.2912037 , 59221.2912037 , 59221.2912037 ,\n",
       "        59221.2912037 , 59221.2912037 , 59221.2912037 , 59221.2912037 ,\n",
       "        59221.2912037 , 59221.2912037 , 59221.2912037 , 59221.2912037 ,\n",
       "        59221.2912037 , 59221.2912037 , 59221.2912037 , 59221.2912037 ,\n",
       "        59221.2912037 , 59221.2912037 , 59221.2912037 , 59221.2912037 ,\n",
       "        59221.2912037 , 59221.2912037 , 59221.2912037 , 59221.2912037 ,\n",
       "        59221.2912037 , 59221.2912037 , 59221.2912037 , 59221.2912037 ,\n",
       "        59221.2912037 , 59221.2912037 , 59221.2912037 , 59221.2912037 ,\n",
       "        59221.2912037 , 59221.2912037 , 59221.2912037 , 59221.2912037 ,\n",
       "        59221.2912037 , 59221.2912037 , 59221.2912037 , 59221.2912037 ,\n",
       "        59221.2912037 , 59221.2912037 , 59221.2912037 , 59221.2912037 ,\n",
       "        59221.2912037 , 59221.2912037 , 59221.2912037 , 59221.2912037 ,\n",
       "        59221.2912037 , 59221.2912037 , 59221.2912037 , 59221.2912037 ,\n",
       "        59221.2912037 , 59221.2912037 , 59221.2912037 , 59221.2912037 ,\n",
       "        59221.2912037 , 59221.2912037 , 59221.2912037 , 59221.2912037 ,\n",
       "        59221.2912037 , 59221.2912037 , 59221.2912037 , 59221.2912037 ,\n",
       "        59221.2912037 , 59221.2912037 , 59221.2912037 , 59221.2912037 ,\n",
       "        59221.2912037 , 59221.2912037 , 59221.2912037 , 59221.2912037 ,\n",
       "        59221.2912037 , 59221.2912037 , 59221.2912037 , 59221.2912037 ,\n",
       "        59221.2912037 , 59221.2912037 , 59221.2912037 , 59221.2912037 ,\n",
       "        59221.2912037 , 59221.2912037 , 59221.2912037 , 59221.2912037 ,\n",
       "        59221.2912037 , 59221.2912037 , 59221.2912037 , 59221.2912037 ,\n",
       "        59221.2912037 , 59221.2912037 , 59221.2912037 , 59221.2912037 ,\n",
       "        59221.2912037 , 59221.2912037 , 59221.2912037 , 59221.2912037 ,\n",
       "        59221.2912037 , 59221.2912037 , 59221.2912037 , 59221.2912037 ,\n",
       "        59221.2912037 , 59221.2912037 , 59221.2912037 , 59221.2912037 ,\n",
       "        59221.2912037 , 59221.2912037 , 59221.2912037 , 59221.2912037 ,\n",
       "        59221.2912037 , 59221.2912037 , 59221.2912037 , 59221.2912037 ,\n",
       "        59221.2912037 , 59221.2912037 , 59221.2912037 , 59221.2912037 ,\n",
       "        59221.2912037 , 59221.2912037 , 59221.2912037 , 59221.2912037 ,\n",
       "        59221.2912037 , 59221.2912037 , 59221.2912037 , 59221.2912037 ,\n",
       "        59221.2912037 , 59221.2912037 , 59221.2912037 , 59221.2912037 ,\n",
       "        59221.2912037 , 59221.2912037 , 59221.2912037 , 59221.2912037 ,\n",
       "        59221.2912037 , 59221.2912037 , 59221.2912037 , 59221.2912037 ,\n",
       "        59221.2912037 , 59221.2912037 , 59221.2912037 , 59221.2912037 ,\n",
       "        59221.2912037 , 59221.2912037 , 59221.2912037 , 59221.2912037 ,\n",
       "        59221.2912037 , 59221.2912037 , 59221.2912037 , 59221.2912037 ]),\n",
       " array([79299.39381994, 83933.92076777, 83952.48075602, 84058.45556427,\n",
       "        84235.86410811, 85970.5439168 , 86257.09318186, 86257.35409771,\n",
       "        86291.84815138, 86326.73409027, 86402.83030779, 86422.60698679,\n",
       "        86422.8024313 , 86428.70946396, 86432.55727124, 86435.59989194,\n",
       "        86437.15151711, 86437.28233684, 86438.02855764, 86438.34831397,\n",
       "        86438.44334641, 86438.58379526, 86438.6158012 , 86438.69361315,\n",
       "        86438.71496314, 86438.71632512, 86438.73051728, 86438.73575527,\n",
       "        86438.74275686, 86438.74386063, 86438.74387567, 86438.74539018,\n",
       "        86438.74606607, 86438.74661609, 86438.74665222, 86438.74668005,\n",
       "        86438.7468424 , 86438.74691588, 86438.74695306, 86438.74695326,\n",
       "        86438.74696063, 86438.74697752, 86438.74698444, 86438.74698648,\n",
       "        86438.74698657, 86438.74698783, 86438.7469895 , 86438.74699006,\n",
       "        86438.74699014, 86438.74699019, 86438.74699036, 86438.74699052,\n",
       "        86438.74699056, 86438.74699056, 86438.74699057, 86438.74699059,\n",
       "        86438.7469906 , 86438.7469906 , 86438.7469906 , 86438.74699061,\n",
       "        86438.74699061, 86438.74699061, 86438.74699061, 86438.74699061,\n",
       "        86438.74699061, 86438.74699061, 86438.74699061, 86438.74699061,\n",
       "        86438.74699061, 86438.74699061, 86438.74699061, 86438.74699061,\n",
       "        86438.74699061, 86438.74699061, 86438.74699061, 86438.74699061,\n",
       "        86438.74699061, 86438.74699061, 86438.74699061, 86438.74699061,\n",
       "        86438.74699061, 86438.74699061, 86438.74699061, 86438.74699061,\n",
       "        86438.74699061, 86438.74699061, 86438.74699061, 86438.74699061,\n",
       "        86438.74699061, 86438.74699061, 86438.74699061, 86438.74699061,\n",
       "        86438.74699061, 86438.74699061, 86438.74699061, 86438.74699061,\n",
       "        86438.74699061, 86438.74699061, 86438.74699061, 86438.74699061,\n",
       "        86438.74699061, 86438.74699061, 86438.74699061, 86438.74699061,\n",
       "        86438.74699061, 86438.74699061, 86438.74699061, 86438.74699061,\n",
       "        86438.74699061, 86438.74699061, 86438.74699061, 86438.74699061,\n",
       "        86438.74699061, 86438.74699061, 86438.74699061, 86438.74699061,\n",
       "        86438.74699061, 86438.74699061, 86438.74699061, 86438.74699061,\n",
       "        86438.74699061, 86438.74699061, 86438.74699061, 86438.74699061,\n",
       "        86438.74699061, 86438.74699061, 86438.74699061, 86438.74699061,\n",
       "        86438.74699061, 86438.74699061, 86438.74699061, 86438.74699061,\n",
       "        86438.74699061, 86438.74699061, 86438.74699061, 86438.74699061,\n",
       "        86438.74699061, 86438.74699061, 86438.74699061, 86438.74699061,\n",
       "        86438.74699061, 86438.74699061, 86438.74699061, 86438.74699061,\n",
       "        86438.74699061, 86438.74699061, 86438.74699061, 86438.74699061,\n",
       "        86438.74699061, 86438.74699061, 86438.74699061, 86438.74699061,\n",
       "        86438.74699061, 86438.74699061, 86438.74699061, 86438.74699061,\n",
       "        86438.74699061, 86438.74699061, 86438.74699061, 86438.74699061,\n",
       "        86438.74699061, 86438.74699061, 86438.74699061, 86438.74699061,\n",
       "        86438.74699061, 86438.74699061, 86438.74699061, 86438.74699061,\n",
       "        86438.74699061, 86438.74699061, 86438.74699061, 86438.74699061,\n",
       "        86438.74699061, 86438.74699061, 86438.74699061, 86438.74699061,\n",
       "        86438.74699061, 86438.74699061, 86438.74699061, 86438.74699061,\n",
       "        86438.74699061, 86438.74699061, 86438.74699061, 86438.74699061,\n",
       "        86438.74699061, 86438.74699061, 86438.74699061, 86438.74699061,\n",
       "        86438.74699061, 86438.74699061, 86438.74699061, 86438.74699061,\n",
       "        86438.74699061, 86438.74699061, 86438.74699061, 86438.74699061,\n",
       "        86438.74699061, 86438.74699061, 86438.74699061, 86438.74699061,\n",
       "        86438.74699061, 86438.74699061, 86438.74699061, 86438.74699061,\n",
       "        86438.74699061, 86438.74699061, 86438.74699061, 86438.74699061,\n",
       "        86438.74699061, 86438.74699061, 86438.74699061, 86438.74699061,\n",
       "        86438.74699061, 86438.74699061, 86438.74699061, 86438.74699061,\n",
       "        86438.74699061, 86438.74699061, 86438.74699061, 86438.74699061,\n",
       "        86438.74699061, 86438.74699061, 86438.74699061, 86438.74699061,\n",
       "        86438.74699061, 86438.74699061, 86438.74699061, 86438.74699061,\n",
       "        86438.74699061, 86438.74699061, 86438.74699061, 86438.74699061,\n",
       "        86438.74699061, 86438.74699061, 86438.74699061, 86438.74699061,\n",
       "        86438.74699061, 86438.74699061, 86438.74699061, 86438.74699061,\n",
       "        86438.74699061, 86438.74699061, 86438.74699061, 86438.74699061,\n",
       "        86438.74699061, 86438.74699061, 86438.74699061, 86438.74699061,\n",
       "        86438.74699061, 86438.74699061, 86438.74699061, 86438.74699061,\n",
       "        86438.74699061, 86438.74699061, 86438.74699061, 86438.74699061,\n",
       "        86438.74699061, 86438.74699061, 86438.74699061, 86438.74699061,\n",
       "        86438.74699061, 86438.74699061, 86438.74699061, 86438.74699061,\n",
       "        86438.74699061, 86438.74699061, 86438.74699061, 86438.74699061,\n",
       "        86438.74699061, 86438.74699061, 86438.74699061, 86438.74699061,\n",
       "        86438.74699061, 86438.74699061, 86438.74699061, 86438.74699061,\n",
       "        86438.74699061, 86438.74699061, 86438.74699061, 86438.74699061,\n",
       "        86438.74699061, 86438.74699061, 86438.74699061, 86438.74699061,\n",
       "        86438.74699061, 86438.74699061, 86438.74699061, 86438.74699061,\n",
       "        86438.74699061, 86438.74699061, 86438.74699061, 86438.74699061,\n",
       "        86438.74699061, 86438.74699061, 86438.74699061, 86438.74699061,\n",
       "        86438.74699061, 86438.74699061, 86438.74699061, 86438.74699061,\n",
       "        86438.74699061, 86438.74699061, 86438.74699061, 86438.74699061,\n",
       "        86438.74699061, 86438.74699061, 86438.74699061, 86438.74699061,\n",
       "        86438.74699061, 86438.74699061, 86438.74699061, 86438.74699061,\n",
       "        86438.74699061, 86438.74699061, 86438.74699061, 86438.74699061,\n",
       "        86438.74699061, 86438.74699061, 86438.74699061, 86438.74699061,\n",
       "        86438.74699061, 86438.74699061, 86438.74699061, 86438.74699061,\n",
       "        86438.74699061, 86438.74699061, 86438.74699061, 86438.74699061,\n",
       "        86438.74699061, 86438.74699061, 86438.74699061, 86438.74699061,\n",
       "        86438.74699061, 86438.74699061, 86438.74699061, 86438.74699061,\n",
       "        86438.74699061, 86438.74699061, 86438.74699061, 86438.74699061,\n",
       "        86438.74699061, 86438.74699061, 86438.74699061, 86438.74699061,\n",
       "        86438.74699061, 86438.74699061, 86438.74699061, 86438.74699061,\n",
       "        86438.74699061, 86438.74699061, 86438.74699061, 86438.74699061,\n",
       "        86438.74699061, 86438.74699061, 86438.74699061, 86438.74699061,\n",
       "        86438.74699061, 86438.74699061, 86438.74699061, 86438.74699061,\n",
       "        86438.74699061, 86438.74699061, 86438.74699061, 86438.74699061,\n",
       "        86438.74699061, 86438.74699061, 86438.74699061, 86438.74699061,\n",
       "        86438.74699061, 86438.74699061, 86438.74699061, 86438.74699061,\n",
       "        86438.74699061, 86438.74699061, 86438.74699061, 86438.74699061,\n",
       "        86438.74699061, 86438.74699061, 86438.74699061, 86438.74699061,\n",
       "        86438.74699061, 86438.74699061, 86438.74699061, 86438.74699061,\n",
       "        86438.74699061, 86438.74699061, 86438.74699061, 86438.74699061,\n",
       "        86438.74699061, 86438.74699061, 86438.74699061, 86438.74699061,\n",
       "        86438.74699061, 86438.74699061, 86438.74699061, 86438.74699061,\n",
       "        86438.74699061, 86438.74699061, 86438.74699061, 86438.74699061,\n",
       "        86438.74699061, 86438.74699061, 86438.74699061, 86438.74699061,\n",
       "        86438.74699061, 86438.74699061, 86438.74699061, 86438.74699061,\n",
       "        86438.74699061, 86438.74699061, 86438.74699061, 86438.74699061,\n",
       "        86438.74699061, 86438.74699061, 86438.74699061, 86438.74699061,\n",
       "        86438.74699061, 86438.74699061, 86438.74699061, 86438.74699061,\n",
       "        86438.74699061, 86438.74699061, 86438.74699061, 86438.74699061,\n",
       "        86438.74699061, 86438.74699061, 86438.74699061, 86438.74699061,\n",
       "        86438.74699061, 86438.74699061, 86438.74699061, 86438.74699061,\n",
       "        86438.74699061, 86438.74699061, 86438.74699061, 86438.74699061,\n",
       "        86438.74699061, 86438.74699061, 86438.74699061, 86438.74699061,\n",
       "        86438.74699061, 86438.74699061, 86438.74699061, 86438.74699061,\n",
       "        86438.74699061, 86438.74699061, 86438.74699061, 86438.74699061,\n",
       "        86438.74699061, 86438.74699061, 86438.74699061, 86438.74699061,\n",
       "        86438.74699061, 86438.74699061, 86438.74699061, 86438.74699061,\n",
       "        86438.74699061, 86438.74699061, 86438.74699061, 86438.74699061,\n",
       "        86438.74699061, 86438.74699061, 86438.74699061, 86438.74699061,\n",
       "        86438.74699061, 86438.74699061, 86438.74699061, 86438.74699061,\n",
       "        86438.74699061, 86438.74699061, 86438.74699061, 86438.74699061,\n",
       "        86438.74699061, 86438.74699061, 86438.74699061, 86438.74699061,\n",
       "        86438.74699061, 86438.74699061, 86438.74699061, 86438.74699061,\n",
       "        86438.74699061, 86438.74699061, 86438.74699061, 86438.74699061,\n",
       "        86438.74699061, 86438.74699061, 86438.74699061, 86438.74699061,\n",
       "        86438.74699061, 86438.74699061, 86438.74699061, 86438.74699061,\n",
       "        86438.74699061, 86438.74699061, 86438.74699061, 86438.74699061,\n",
       "        86438.74699061, 86438.74699061, 86438.74699061, 86438.74699061,\n",
       "        86438.74699061, 86438.74699061, 86438.74699061, 86438.74699061,\n",
       "        86438.74699061, 86438.74699061, 86438.74699061, 86438.74699061,\n",
       "        86438.74699061, 86438.74699061, 86438.74699061, 86438.74699061,\n",
       "        86438.74699061, 86438.74699061, 86438.74699061, 86438.74699061,\n",
       "        86438.74699061, 86438.74699061, 86438.74699061, 86438.74699061,\n",
       "        86438.74699061, 86438.74699061, 86438.74699061, 86438.74699061,\n",
       "        86438.74699061, 86438.74699061, 86438.74699061, 86438.74699061,\n",
       "        86438.74699061, 86438.74699061, 86438.74699061, 86438.74699061,\n",
       "        86438.74699061, 86438.74699061, 86438.74699061, 86438.74699061,\n",
       "        86438.74699061, 86438.74699061, 86438.74699061, 86438.74699061,\n",
       "        86438.74699061, 86438.74699061, 86438.74699061, 86438.74699061,\n",
       "        86438.74699061, 86438.74699061, 86438.74699061, 86438.74699061,\n",
       "        86438.74699061, 86438.74699061, 86438.74699061, 86438.74699061,\n",
       "        86438.74699061, 86438.74699061, 86438.74699061, 86438.74699061,\n",
       "        86438.74699061, 86438.74699061, 86438.74699061, 86438.74699061,\n",
       "        86438.74699061, 86438.74699061, 86438.74699061, 86438.74699061,\n",
       "        86438.74699061, 86438.74699061, 86438.74699061, 86438.74699061,\n",
       "        86438.74699061, 86438.74699061, 86438.74699061, 86438.74699061,\n",
       "        86438.74699061, 86438.74699061, 86438.74699061, 86438.74699061,\n",
       "        86438.74699061, 86438.74699061, 86438.74699061, 86438.74699061,\n",
       "        86438.74699061, 86438.74699061, 86438.74699061, 86438.74699061,\n",
       "        86438.74699061, 86438.74699061, 86438.74699061, 86438.74699061,\n",
       "        86438.74699061, 86438.74699061, 86438.74699061, 86438.74699061,\n",
       "        86438.74699061, 86438.74699061, 86438.74699061, 86438.74699061,\n",
       "        86438.74699061, 86438.74699061, 86438.74699061, 86438.74699061,\n",
       "        86438.74699061, 86438.74699061, 86438.74699061, 86438.74699061,\n",
       "        86438.74699061, 86438.74699061, 86438.74699061, 86438.74699061,\n",
       "        86438.74699061, 86438.74699061, 86438.74699061, 86438.74699061,\n",
       "        86438.74699061, 86438.74699061, 86438.74699061, 86438.74699061,\n",
       "        86438.74699061, 86438.74699061, 86438.74699061, 86438.74699061,\n",
       "        86438.74699061, 86438.74699061, 86438.74699061, 86438.74699061,\n",
       "        86438.74699061, 86438.74699061, 86438.74699061, 86438.74699061,\n",
       "        86438.74699061, 86438.74699061, 86438.74699061, 86438.74699061,\n",
       "        86438.74699061, 86438.74699061, 86438.74699061, 86438.74699061,\n",
       "        86438.74699061, 86438.74699061, 86438.74699061, 86438.74699061,\n",
       "        86438.74699061, 86438.74699061, 86438.74699061, 86438.74699061,\n",
       "        86438.74699061, 86438.74699061, 86438.74699061, 86438.74699061,\n",
       "        86438.74699061, 86438.74699061, 86438.74699061, 86438.74699061,\n",
       "        86438.74699061, 86438.74699061, 86438.74699061, 86438.74699061,\n",
       "        86438.74699061, 86438.74699061, 86438.74699061, 86438.74699061,\n",
       "        86438.74699061, 86438.74699061, 86438.74699061, 86438.74699061,\n",
       "        86438.74699061, 86438.74699061, 86438.74699061, 86438.74699061,\n",
       "        86438.74699061, 86438.74699061, 86438.74699061, 86438.74699061,\n",
       "        86438.74699061, 86438.74699061, 86438.74699061, 86438.74699061,\n",
       "        86438.74699061, 86438.74699061, 86438.74699061, 86438.74699061,\n",
       "        86438.74699061, 86438.74699061, 86438.74699061, 86438.74699061,\n",
       "        86438.74699061, 86438.74699061, 86438.74699061, 86438.74699061,\n",
       "        86438.74699061, 86438.74699061, 86438.74699061, 86438.74699061,\n",
       "        86438.74699061, 86438.74699061, 86438.74699061, 86438.74699061,\n",
       "        86438.74699061, 86438.74699061, 86438.74699061, 86438.74699061,\n",
       "        86438.74699061, 86438.74699061, 86438.74699061, 86438.74699061,\n",
       "        86438.74699061, 86438.74699061, 86438.74699061, 86438.74699061,\n",
       "        86438.74699061, 86438.74699061, 86438.74699061, 86438.74699061,\n",
       "        86438.74699061, 86438.74699061, 86438.74699061, 86438.74699061,\n",
       "        86438.74699061, 86438.74699061, 86438.74699061, 86438.74699061]),\n",
       " array([[-141045.48417825,  169802.42758762],\n",
       "        [-111320.55049695,  217694.37307517],\n",
       "        [-123752.77101881,  205334.90637039],\n",
       "        ...,\n",
       "        [-110195.53976666,  228638.12217407],\n",
       "        [-110195.53976666,  228638.12217407],\n",
       "        [-110195.53976666,  228638.12217407]]))"
      ]
     },
     "execution_count": 312,
     "metadata": {},
     "output_type": "execute_result"
    }
   ],
   "source": [
    "output2022"
   ]
  },
  {
   "cell_type": "code",
   "execution_count": null,
   "metadata": {},
   "outputs": [],
   "source": []
  },
  {
   "cell_type": "code",
   "execution_count": 256,
   "metadata": {},
   "outputs": [],
   "source": [
    "test=train[1440:]"
   ]
  },
  {
   "cell_type": "code",
   "execution_count": null,
   "metadata": {},
   "outputs": [],
   "source": []
  },
  {
   "cell_type": "code",
   "execution_count": 269,
   "metadata": {},
   "outputs": [
    {
     "data": {
      "text/html": [
       "<div>\n",
       "<style scoped>\n",
       "    .dataframe tbody tr th:only-of-type {\n",
       "        vertical-align: middle;\n",
       "    }\n",
       "\n",
       "    .dataframe tbody tr th {\n",
       "        vertical-align: top;\n",
       "    }\n",
       "\n",
       "    .dataframe thead th {\n",
       "        text-align: right;\n",
       "    }\n",
       "</style>\n",
       "<table border=\"1\" class=\"dataframe\">\n",
       "  <thead>\n",
       "    <tr style=\"text-align: right;\">\n",
       "      <th></th>\n",
       "      <th>Close</th>\n",
       "    </tr>\n",
       "    <tr>\n",
       "      <th>Year</th>\n",
       "      <th></th>\n",
       "    </tr>\n",
       "  </thead>\n",
       "  <tbody>\n",
       "    <tr>\n",
       "      <th>2021</th>\n",
       "      <td>13808</td>\n",
       "    </tr>\n",
       "    <tr>\n",
       "      <th>2021</th>\n",
       "      <td>41016</td>\n",
       "    </tr>\n",
       "    <tr>\n",
       "      <th>2021</th>\n",
       "      <td>18461</td>\n",
       "    </tr>\n",
       "    <tr>\n",
       "      <th>2021</th>\n",
       "      <td>49042</td>\n",
       "    </tr>\n",
       "    <tr>\n",
       "      <th>2021</th>\n",
       "      <td>21931</td>\n",
       "    </tr>\n",
       "    <tr>\n",
       "      <th>...</th>\n",
       "      <td>...</td>\n",
       "    </tr>\n",
       "    <tr>\n",
       "      <th>2021</th>\n",
       "      <td>1882</td>\n",
       "    </tr>\n",
       "    <tr>\n",
       "      <th>2021</th>\n",
       "      <td>16703</td>\n",
       "    </tr>\n",
       "    <tr>\n",
       "      <th>2021</th>\n",
       "      <td>2089</td>\n",
       "    </tr>\n",
       "    <tr>\n",
       "      <th>2021</th>\n",
       "      <td>78465</td>\n",
       "    </tr>\n",
       "    <tr>\n",
       "      <th>2021</th>\n",
       "      <td>19441</td>\n",
       "    </tr>\n",
       "  </tbody>\n",
       "</table>\n",
       "<p>720 rows × 1 columns</p>\n",
       "</div>"
      ],
      "text/plain": [
       "      Close\n",
       "Year       \n",
       "2021  13808\n",
       "2021  41016\n",
       "2021  18461\n",
       "2021  49042\n",
       "2021  21931\n",
       "...     ...\n",
       "2021   1882\n",
       "2021  16703\n",
       "2021   2089\n",
       "2021  78465\n",
       "2021  19441\n",
       "\n",
       "[720 rows x 1 columns]"
      ]
     },
     "execution_count": 269,
     "metadata": {},
     "output_type": "execute_result"
    }
   ],
   "source": [
    "train_data[1440:]"
   ]
  },
  {
   "cell_type": "code",
   "execution_count": 258,
   "metadata": {},
   "outputs": [],
   "source": [
    "n_test_obser=len(test)"
   ]
  },
  {
   "cell_type": "code",
   "execution_count": 259,
   "metadata": {},
   "outputs": [
    {
     "data": {
      "text/plain": [
       "720"
      ]
     },
     "execution_count": 259,
     "metadata": {},
     "output_type": "execute_result"
    }
   ],
   "source": [
    "n_test_obser"
   ]
  },
  {
   "cell_type": "code",
   "execution_count": 260,
   "metadata": {},
   "outputs": [],
   "source": [
    "model_prediction=[]"
   ]
  },
  {
   "cell_type": "code",
   "execution_count": 270,
   "metadata": {},
   "outputs": [],
   "source": [
    "train=train[:1439]"
   ]
  },
  {
   "cell_type": "code",
   "execution_count": 271,
   "metadata": {},
   "outputs": [
    {
     "data": {
      "text/plain": [
       "1439"
      ]
     },
     "execution_count": 271,
     "metadata": {},
     "output_type": "execute_result"
    }
   ],
   "source": [
    "len(train)"
   ]
  },
  {
   "cell_type": "code",
   "execution_count": 272,
   "metadata": {},
   "outputs": [
    {
     "data": {
      "text/plain": [
       "720"
      ]
     },
     "execution_count": 272,
     "metadata": {},
     "output_type": "execute_result"
    }
   ],
   "source": [
    "n_test_obser"
   ]
  },
  {
   "cell_type": "code",
   "execution_count": 273,
   "metadata": {},
   "outputs": [
    {
     "name": "stderr",
     "output_type": "stream",
     "text": [
      "c:\\ProgramData\\Anaconda3\\lib\\site-packages\\statsmodels\\tsa\\arima_model.py:472: FutureWarning: \n",
      "statsmodels.tsa.arima_model.ARMA and statsmodels.tsa.arima_model.ARIMA have\n",
      "been deprecated in favor of statsmodels.tsa.arima.model.ARIMA (note the .\n",
      "between arima and model) and\n",
      "statsmodels.tsa.SARIMAX. These will be removed after the 0.12 release.\n",
      "\n",
      "statsmodels.tsa.arima.model.ARIMA makes use of the statespace framework and\n",
      "is both well tested and maintained.\n",
      "\n",
      "To silence this warning and continue using ARMA and ARIMA until they are\n",
      "removed, use:\n",
      "\n",
      "import warnings\n",
      "warnings.filterwarnings('ignore', 'statsmodels.tsa.arima_model.ARMA',\n",
      "                        FutureWarning)\n",
      "warnings.filterwarnings('ignore', 'statsmodels.tsa.arima_model.ARIMA',\n",
      "                        FutureWarning)\n",
      "\n",
      "  warnings.warn(ARIMA_DEPRECATION_WARN, FutureWarning)\n",
      "c:\\ProgramData\\Anaconda3\\lib\\site-packages\\statsmodels\\base\\model.py:566: ConvergenceWarning: Maximum Likelihood optimization failed to converge. Check mle_retvals\n",
      "  warnings.warn(\"Maximum Likelihood optimization failed to \"\n",
      "c:\\ProgramData\\Anaconda3\\lib\\site-packages\\statsmodels\\base\\model.py:566: ConvergenceWarning: Maximum Likelihood optimization failed to converge. Check mle_retvals\n",
      "  warnings.warn(\"Maximum Likelihood optimization failed to \"\n"
     ]
    }
   ],
   "source": [
    "for i in range(n_test_obser):\n",
    "    model=ARIMA(train,order=(5,0,1))\n",
    "    model_fit=model.fit()\n",
    "    output=model_fit.forecast()\n",
    "    yhat=list(output[0])[0]\n",
    "    model_prediction.append(yhat)\n",
    "    actual_test_value=test[i]\n",
    "    train.append(actual_test_value)\n",
    "    "
   ]
  },
  {
   "cell_type": "markdown",
   "metadata": {},
   "source": [
    "ans=4-2"
   ]
  },
  {
   "cell_type": "code",
   "execution_count": 274,
   "metadata": {},
   "outputs": [
    {
     "data": {
      "text/plain": [
       "5.6707642383033825"
      ]
     },
     "execution_count": 274,
     "metadata": {},
     "output_type": "execute_result"
    }
   ],
   "source": [
    "mape=np.mean(np.abs(np.array(model_prediction[:])-np.array(test))/np.abs(test))\n",
    "mape"
   ]
  },
  {
   "cell_type": "markdown",
   "metadata": {},
   "source": [
    "solution of 5th question second part"
   ]
  },
  {
   "cell_type": "code",
   "execution_count": null,
   "metadata": {},
   "outputs": [],
   "source": []
  },
  {
   "cell_type": "code",
   "execution_count": 313,
   "metadata": {},
   "outputs": [],
   "source": [
    "y=[]\n",
    "for i in range(len(output2022[0])):\n",
    "    y.append('2022')\n",
    "\n",
    "out=pd.DataFrame()\n",
    "out['Year']=y\n",
    "out['Close']=output2022[0]\n",
    "out=out.set_index('Year')"
   ]
  },
  {
   "cell_type": "code",
   "execution_count": 314,
   "metadata": {},
   "outputs": [
    {
     "data": {
      "text/plain": [
       "720"
      ]
     },
     "execution_count": 314,
     "metadata": {},
     "output_type": "execute_result"
    }
   ],
   "source": [
    "len(output2022[0])"
   ]
  },
  {
   "cell_type": "code",
   "execution_count": 324,
   "metadata": {},
   "outputs": [],
   "source": [
    "train_data=train_data.append(out)"
   ]
  },
  {
   "cell_type": "code",
   "execution_count": 325,
   "metadata": {},
   "outputs": [
    {
     "data": {
      "text/plain": [
       "<matplotlib.legend.Legend at 0x1a5363ea430>"
      ]
     },
     "execution_count": 325,
     "metadata": {},
     "output_type": "execute_result"
    },
    {
     "data": {
      "image/png": "[encoded data removed]",
      "text/plain": [
       "<Figure size 1152x288 with 1 Axes>"
      ]
     },
     "metadata": {
      "needs_background": "light"
     },
     "output_type": "display_data"
    }
   ],
   "source": [
    "plt.figure(figsize=(16,4))\n",
    "plt.grid(True)\n",
    "\n",
    "plt.plot(train_data[:]['Close'],'green',label='given data')\n",
    "#plt.plot(out[:]['Close'],'blue',label='predicted data')\n",
    "plt.legend()"
   ]
  },
  {
   "cell_type": "code",
   "execution_count": null,
   "metadata": {},
   "outputs": [],
   "source": [
    "train_data.ap"
   ]
  }
 ],
 "metadata": {
  "kernelspec": {
   "display_name": "Python 3.9.7 ('base')",
   "language": "python",
   "name": "python3"
  },
  "language_info": {
   "codemirror_mode": {
    "name": "ipython",
    "version": 3
   },
   "file_extension": ".py",
   "mimetype": "text/x-python",
   "name": "python",
   "nbconvert_exporter": "python",
   "pygments_lexer": "ipython3",
   "version": "3.9.7"
  },
  "orig_nbformat": 4,
  "vscode": {
   "interpreter": {
    "hash": "ad2bdc8ecc057115af97d19610ffacc2b4e99fae6737bb82f5d7fb13d2f2c186"
   }
  }
 },
 "nbformat": 4,
 "nbformat_minor": 2
}
